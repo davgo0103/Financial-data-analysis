{
 "cells": [
  {
   "cell_type": "markdown",
   "id": "f87662fe",
   "metadata": {},
   "source": [
    "https://docs.google.com/spreadsheets/d/1O91FqX_t0jlIpiByqjYuk8OpzHXWB9NnaZsvjgDKCEk/edit#gid=0\n",
    "!pip install gspread oauth2client"
   ]
  },
  {
   "cell_type": "markdown",
   "id": "7a527f2f",
   "metadata": {},
   "source": [
    "# 2"
   ]
  },
  {
   "cell_type": "code",
   "execution_count": 1,
   "id": "b2a1b425",
   "metadata": {},
   "outputs": [],
   "source": [
    "import pandas\n",
    "資料 = pandas.read_excel(\"./0050.xlsx\")"
   ]
  },
  {
   "cell_type": "code",
   "execution_count": 2,
   "id": "b05be11e",
   "metadata": {
    "scrolled": true
   },
   "outputs": [
    {
     "data": {
      "text/html": [
       "<div>\n",
       "<style scoped>\n",
       "    .dataframe tbody tr th:only-of-type {\n",
       "        vertical-align: middle;\n",
       "    }\n",
       "\n",
       "    .dataframe tbody tr th {\n",
       "        vertical-align: top;\n",
       "    }\n",
       "\n",
       "    .dataframe thead th {\n",
       "        text-align: right;\n",
       "    }\n",
       "</style>\n",
       "<table border=\"1\" class=\"dataframe\">\n",
       "  <thead>\n",
       "    <tr style=\"text-align: right;\">\n",
       "      <th></th>\n",
       "      <th>日期</th>\n",
       "      <th>開盤價</th>\n",
       "      <th>最高價</th>\n",
       "      <th>最低價</th>\n",
       "      <th>收盤價</th>\n",
       "    </tr>\n",
       "  </thead>\n",
       "  <tbody>\n",
       "    <tr>\n",
       "      <th>0</th>\n",
       "      <td>2020/01/02</td>\n",
       "      <td>97.05</td>\n",
       "      <td>98.00</td>\n",
       "      <td>97.05</td>\n",
       "      <td>97.65</td>\n",
       "    </tr>\n",
       "    <tr>\n",
       "      <th>1</th>\n",
       "      <td>2020/01/03</td>\n",
       "      <td>98.30</td>\n",
       "      <td>98.70</td>\n",
       "      <td>97.00</td>\n",
       "      <td>97.65</td>\n",
       "    </tr>\n",
       "    <tr>\n",
       "      <th>2</th>\n",
       "      <td>2020/01/06</td>\n",
       "      <td>97.05</td>\n",
       "      <td>97.10</td>\n",
       "      <td>96.40</td>\n",
       "      <td>96.40</td>\n",
       "    </tr>\n",
       "    <tr>\n",
       "      <th>3</th>\n",
       "      <td>2020/01/07</td>\n",
       "      <td>96.45</td>\n",
       "      <td>96.70</td>\n",
       "      <td>95.40</td>\n",
       "      <td>96.10</td>\n",
       "    </tr>\n",
       "    <tr>\n",
       "      <th>4</th>\n",
       "      <td>2020/01/08</td>\n",
       "      <td>95.20</td>\n",
       "      <td>96.20</td>\n",
       "      <td>95.05</td>\n",
       "      <td>95.65</td>\n",
       "    </tr>\n",
       "    <tr>\n",
       "      <th>...</th>\n",
       "      <td>...</td>\n",
       "      <td>...</td>\n",
       "      <td>...</td>\n",
       "      <td>...</td>\n",
       "      <td>...</td>\n",
       "    </tr>\n",
       "    <tr>\n",
       "      <th>686</th>\n",
       "      <td>2022/10/25</td>\n",
       "      <td>98.60</td>\n",
       "      <td>98.60</td>\n",
       "      <td>96.50</td>\n",
       "      <td>96.70</td>\n",
       "    </tr>\n",
       "    <tr>\n",
       "      <th>687</th>\n",
       "      <td>2022/10/26</td>\n",
       "      <td>96.85</td>\n",
       "      <td>98.00</td>\n",
       "      <td>96.50</td>\n",
       "      <td>97.60</td>\n",
       "    </tr>\n",
       "    <tr>\n",
       "      <th>688</th>\n",
       "      <td>2022/10/27</td>\n",
       "      <td>98.50</td>\n",
       "      <td>99.35</td>\n",
       "      <td>98.50</td>\n",
       "      <td>99.00</td>\n",
       "    </tr>\n",
       "    <tr>\n",
       "      <th>689</th>\n",
       "      <td>2022/10/28</td>\n",
       "      <td>98.60</td>\n",
       "      <td>98.60</td>\n",
       "      <td>97.25</td>\n",
       "      <td>97.75</td>\n",
       "    </tr>\n",
       "    <tr>\n",
       "      <th>690</th>\n",
       "      <td>2022/10/31</td>\n",
       "      <td>98.85</td>\n",
       "      <td>99.35</td>\n",
       "      <td>98.10</td>\n",
       "      <td>99.05</td>\n",
       "    </tr>\n",
       "  </tbody>\n",
       "</table>\n",
       "<p>691 rows × 5 columns</p>\n",
       "</div>"
      ],
      "text/plain": [
       "             日期    開盤價    最高價    最低價    收盤價\n",
       "0    2020/01/02  97.05  98.00  97.05  97.65\n",
       "1    2020/01/03  98.30  98.70  97.00  97.65\n",
       "2    2020/01/06  97.05  97.10  96.40  96.40\n",
       "3    2020/01/07  96.45  96.70  95.40  96.10\n",
       "4    2020/01/08  95.20  96.20  95.05  95.65\n",
       "..          ...    ...    ...    ...    ...\n",
       "686  2022/10/25  98.60  98.60  96.50  96.70\n",
       "687  2022/10/26  96.85  98.00  96.50  97.60\n",
       "688  2022/10/27  98.50  99.35  98.50  99.00\n",
       "689  2022/10/28  98.60  98.60  97.25  97.75\n",
       "690  2022/10/31  98.85  99.35  98.10  99.05\n",
       "\n",
       "[691 rows x 5 columns]"
      ]
     },
     "execution_count": 2,
     "metadata": {},
     "output_type": "execute_result"
    }
   ],
   "source": [
    "資料"
   ]
  },
  {
   "cell_type": "markdown",
   "id": "49a1be04",
   "metadata": {},
   "source": [
    "# 3 、 4"
   ]
  },
  {
   "cell_type": "code",
   "execution_count": 3,
   "id": "51244050",
   "metadata": {},
   "outputs": [],
   "source": [
    "資料 = 資料.set_index('日期')\n",
    "資料.index = pandas.to_datetime(資料.index)"
   ]
  },
  {
   "cell_type": "code",
   "execution_count": 4,
   "id": "92f797e9",
   "metadata": {},
   "outputs": [
    {
     "data": {
      "text/html": [
       "<div>\n",
       "<style scoped>\n",
       "    .dataframe tbody tr th:only-of-type {\n",
       "        vertical-align: middle;\n",
       "    }\n",
       "\n",
       "    .dataframe tbody tr th {\n",
       "        vertical-align: top;\n",
       "    }\n",
       "\n",
       "    .dataframe thead th {\n",
       "        text-align: right;\n",
       "    }\n",
       "</style>\n",
       "<table border=\"1\" class=\"dataframe\">\n",
       "  <thead>\n",
       "    <tr style=\"text-align: right;\">\n",
       "      <th></th>\n",
       "      <th>開盤價</th>\n",
       "      <th>最高價</th>\n",
       "      <th>最低價</th>\n",
       "      <th>收盤價</th>\n",
       "    </tr>\n",
       "    <tr>\n",
       "      <th>日期</th>\n",
       "      <th></th>\n",
       "      <th></th>\n",
       "      <th></th>\n",
       "      <th></th>\n",
       "    </tr>\n",
       "  </thead>\n",
       "  <tbody>\n",
       "    <tr>\n",
       "      <th>2020-01-02</th>\n",
       "      <td>97.05</td>\n",
       "      <td>98.00</td>\n",
       "      <td>97.05</td>\n",
       "      <td>97.65</td>\n",
       "    </tr>\n",
       "    <tr>\n",
       "      <th>2020-01-03</th>\n",
       "      <td>98.30</td>\n",
       "      <td>98.70</td>\n",
       "      <td>97.00</td>\n",
       "      <td>97.65</td>\n",
       "    </tr>\n",
       "    <tr>\n",
       "      <th>2020-01-06</th>\n",
       "      <td>97.05</td>\n",
       "      <td>97.10</td>\n",
       "      <td>96.40</td>\n",
       "      <td>96.40</td>\n",
       "    </tr>\n",
       "    <tr>\n",
       "      <th>2020-01-07</th>\n",
       "      <td>96.45</td>\n",
       "      <td>96.70</td>\n",
       "      <td>95.40</td>\n",
       "      <td>96.10</td>\n",
       "    </tr>\n",
       "    <tr>\n",
       "      <th>2020-01-08</th>\n",
       "      <td>95.20</td>\n",
       "      <td>96.20</td>\n",
       "      <td>95.05</td>\n",
       "      <td>95.65</td>\n",
       "    </tr>\n",
       "    <tr>\n",
       "      <th>...</th>\n",
       "      <td>...</td>\n",
       "      <td>...</td>\n",
       "      <td>...</td>\n",
       "      <td>...</td>\n",
       "    </tr>\n",
       "    <tr>\n",
       "      <th>2022-10-25</th>\n",
       "      <td>98.60</td>\n",
       "      <td>98.60</td>\n",
       "      <td>96.50</td>\n",
       "      <td>96.70</td>\n",
       "    </tr>\n",
       "    <tr>\n",
       "      <th>2022-10-26</th>\n",
       "      <td>96.85</td>\n",
       "      <td>98.00</td>\n",
       "      <td>96.50</td>\n",
       "      <td>97.60</td>\n",
       "    </tr>\n",
       "    <tr>\n",
       "      <th>2022-10-27</th>\n",
       "      <td>98.50</td>\n",
       "      <td>99.35</td>\n",
       "      <td>98.50</td>\n",
       "      <td>99.00</td>\n",
       "    </tr>\n",
       "    <tr>\n",
       "      <th>2022-10-28</th>\n",
       "      <td>98.60</td>\n",
       "      <td>98.60</td>\n",
       "      <td>97.25</td>\n",
       "      <td>97.75</td>\n",
       "    </tr>\n",
       "    <tr>\n",
       "      <th>2022-10-31</th>\n",
       "      <td>98.85</td>\n",
       "      <td>99.35</td>\n",
       "      <td>98.10</td>\n",
       "      <td>99.05</td>\n",
       "    </tr>\n",
       "  </tbody>\n",
       "</table>\n",
       "<p>691 rows × 4 columns</p>\n",
       "</div>"
      ],
      "text/plain": [
       "              開盤價    最高價    最低價    收盤價\n",
       "日期                                    \n",
       "2020-01-02  97.05  98.00  97.05  97.65\n",
       "2020-01-03  98.30  98.70  97.00  97.65\n",
       "2020-01-06  97.05  97.10  96.40  96.40\n",
       "2020-01-07  96.45  96.70  95.40  96.10\n",
       "2020-01-08  95.20  96.20  95.05  95.65\n",
       "...           ...    ...    ...    ...\n",
       "2022-10-25  98.60  98.60  96.50  96.70\n",
       "2022-10-26  96.85  98.00  96.50  97.60\n",
       "2022-10-27  98.50  99.35  98.50  99.00\n",
       "2022-10-28  98.60  98.60  97.25  97.75\n",
       "2022-10-31  98.85  99.35  98.10  99.05\n",
       "\n",
       "[691 rows x 4 columns]"
      ]
     },
     "execution_count": 4,
     "metadata": {},
     "output_type": "execute_result"
    }
   ],
   "source": [
    "資料"
   ]
  },
  {
   "cell_type": "markdown",
   "id": "6cc48bd4",
   "metadata": {},
   "source": [
    "# 5"
   ]
  },
  {
   "cell_type": "code",
   "execution_count": 5,
   "id": "44cb2863",
   "metadata": {},
   "outputs": [],
   "source": [
    "資料_2022 = 資料.loc['20220101':'20221031']"
   ]
  },
  {
   "cell_type": "code",
   "execution_count": 6,
   "id": "939e4dee",
   "metadata": {},
   "outputs": [
    {
     "data": {
      "text/html": [
       "<div>\n",
       "<style scoped>\n",
       "    .dataframe tbody tr th:only-of-type {\n",
       "        vertical-align: middle;\n",
       "    }\n",
       "\n",
       "    .dataframe tbody tr th {\n",
       "        vertical-align: top;\n",
       "    }\n",
       "\n",
       "    .dataframe thead th {\n",
       "        text-align: right;\n",
       "    }\n",
       "</style>\n",
       "<table border=\"1\" class=\"dataframe\">\n",
       "  <thead>\n",
       "    <tr style=\"text-align: right;\">\n",
       "      <th></th>\n",
       "      <th>開盤價</th>\n",
       "      <th>最高價</th>\n",
       "      <th>最低價</th>\n",
       "      <th>收盤價</th>\n",
       "    </tr>\n",
       "    <tr>\n",
       "      <th>日期</th>\n",
       "      <th></th>\n",
       "      <th></th>\n",
       "      <th></th>\n",
       "      <th></th>\n",
       "    </tr>\n",
       "  </thead>\n",
       "  <tbody>\n",
       "    <tr>\n",
       "      <th>2022-01-03</th>\n",
       "      <td>146.00</td>\n",
       "      <td>147.35</td>\n",
       "      <td>146.00</td>\n",
       "      <td>146.40</td>\n",
       "    </tr>\n",
       "    <tr>\n",
       "      <th>2022-01-04</th>\n",
       "      <td>147.70</td>\n",
       "      <td>149.60</td>\n",
       "      <td>147.70</td>\n",
       "      <td>149.60</td>\n",
       "    </tr>\n",
       "    <tr>\n",
       "      <th>2022-01-05</th>\n",
       "      <td>150.10</td>\n",
       "      <td>150.55</td>\n",
       "      <td>149.10</td>\n",
       "      <td>149.30</td>\n",
       "    </tr>\n",
       "    <tr>\n",
       "      <th>2022-01-06</th>\n",
       "      <td>148.30</td>\n",
       "      <td>148.75</td>\n",
       "      <td>147.00</td>\n",
       "      <td>147.90</td>\n",
       "    </tr>\n",
       "    <tr>\n",
       "      <th>2022-01-07</th>\n",
       "      <td>148.30</td>\n",
       "      <td>149.00</td>\n",
       "      <td>146.50</td>\n",
       "      <td>146.60</td>\n",
       "    </tr>\n",
       "    <tr>\n",
       "      <th>...</th>\n",
       "      <td>...</td>\n",
       "      <td>...</td>\n",
       "      <td>...</td>\n",
       "      <td>...</td>\n",
       "    </tr>\n",
       "    <tr>\n",
       "      <th>2022-10-25</th>\n",
       "      <td>98.60</td>\n",
       "      <td>98.60</td>\n",
       "      <td>96.50</td>\n",
       "      <td>96.70</td>\n",
       "    </tr>\n",
       "    <tr>\n",
       "      <th>2022-10-26</th>\n",
       "      <td>96.85</td>\n",
       "      <td>98.00</td>\n",
       "      <td>96.50</td>\n",
       "      <td>97.60</td>\n",
       "    </tr>\n",
       "    <tr>\n",
       "      <th>2022-10-27</th>\n",
       "      <td>98.50</td>\n",
       "      <td>99.35</td>\n",
       "      <td>98.50</td>\n",
       "      <td>99.00</td>\n",
       "    </tr>\n",
       "    <tr>\n",
       "      <th>2022-10-28</th>\n",
       "      <td>98.60</td>\n",
       "      <td>98.60</td>\n",
       "      <td>97.25</td>\n",
       "      <td>97.75</td>\n",
       "    </tr>\n",
       "    <tr>\n",
       "      <th>2022-10-31</th>\n",
       "      <td>98.85</td>\n",
       "      <td>99.35</td>\n",
       "      <td>98.10</td>\n",
       "      <td>99.05</td>\n",
       "    </tr>\n",
       "  </tbody>\n",
       "</table>\n",
       "<p>202 rows × 4 columns</p>\n",
       "</div>"
      ],
      "text/plain": [
       "               開盤價     最高價     最低價     收盤價\n",
       "日期                                        \n",
       "2022-01-03  146.00  147.35  146.00  146.40\n",
       "2022-01-04  147.70  149.60  147.70  149.60\n",
       "2022-01-05  150.10  150.55  149.10  149.30\n",
       "2022-01-06  148.30  148.75  147.00  147.90\n",
       "2022-01-07  148.30  149.00  146.50  146.60\n",
       "...            ...     ...     ...     ...\n",
       "2022-10-25   98.60   98.60   96.50   96.70\n",
       "2022-10-26   96.85   98.00   96.50   97.60\n",
       "2022-10-27   98.50   99.35   98.50   99.00\n",
       "2022-10-28   98.60   98.60   97.25   97.75\n",
       "2022-10-31   98.85   99.35   98.10   99.05\n",
       "\n",
       "[202 rows x 4 columns]"
      ]
     },
     "execution_count": 6,
     "metadata": {},
     "output_type": "execute_result"
    }
   ],
   "source": [
    "資料_2022"
   ]
  },
  {
   "cell_type": "markdown",
   "id": "64daf85a",
   "metadata": {},
   "source": [
    "# 6"
   ]
  },
  {
   "cell_type": "code",
   "execution_count": 7,
   "id": "8e7d06b5",
   "metadata": {},
   "outputs": [
    {
     "name": "stderr",
     "output_type": "stream",
     "text": [
      "<ipython-input-7-01e4a92cc137>:1: SettingWithCopyWarning: \n",
      "A value is trying to be set on a copy of a slice from a DataFrame.\n",
      "Try using .loc[row_indexer,col_indexer] = value instead\n",
      "\n",
      "See the caveats in the documentation: https://pandas.pydata.org/pandas-docs/stable/user_guide/indexing.html#returning-a-view-versus-a-copy\n",
      "  資料_2022['報酬率']=(資料_2022['收盤價'].diff() / 資料_2022['收盤價'])\n"
     ]
    }
   ],
   "source": [
    "資料_2022['報酬率']=(資料_2022['收盤價'].diff() / 資料_2022['收盤價'])"
   ]
  },
  {
   "cell_type": "code",
   "execution_count": 8,
   "id": "547e2fb6",
   "metadata": {},
   "outputs": [
    {
     "data": {
      "text/html": [
       "<div>\n",
       "<style scoped>\n",
       "    .dataframe tbody tr th:only-of-type {\n",
       "        vertical-align: middle;\n",
       "    }\n",
       "\n",
       "    .dataframe tbody tr th {\n",
       "        vertical-align: top;\n",
       "    }\n",
       "\n",
       "    .dataframe thead th {\n",
       "        text-align: right;\n",
       "    }\n",
       "</style>\n",
       "<table border=\"1\" class=\"dataframe\">\n",
       "  <thead>\n",
       "    <tr style=\"text-align: right;\">\n",
       "      <th></th>\n",
       "      <th>開盤價</th>\n",
       "      <th>最高價</th>\n",
       "      <th>最低價</th>\n",
       "      <th>收盤價</th>\n",
       "      <th>報酬率</th>\n",
       "    </tr>\n",
       "    <tr>\n",
       "      <th>日期</th>\n",
       "      <th></th>\n",
       "      <th></th>\n",
       "      <th></th>\n",
       "      <th></th>\n",
       "      <th></th>\n",
       "    </tr>\n",
       "  </thead>\n",
       "  <tbody>\n",
       "    <tr>\n",
       "      <th>2022-01-03</th>\n",
       "      <td>146.00</td>\n",
       "      <td>147.35</td>\n",
       "      <td>146.00</td>\n",
       "      <td>146.40</td>\n",
       "      <td>NaN</td>\n",
       "    </tr>\n",
       "    <tr>\n",
       "      <th>2022-01-04</th>\n",
       "      <td>147.70</td>\n",
       "      <td>149.60</td>\n",
       "      <td>147.70</td>\n",
       "      <td>149.60</td>\n",
       "      <td>0.021390</td>\n",
       "    </tr>\n",
       "    <tr>\n",
       "      <th>2022-01-05</th>\n",
       "      <td>150.10</td>\n",
       "      <td>150.55</td>\n",
       "      <td>149.10</td>\n",
       "      <td>149.30</td>\n",
       "      <td>-0.002009</td>\n",
       "    </tr>\n",
       "    <tr>\n",
       "      <th>2022-01-06</th>\n",
       "      <td>148.30</td>\n",
       "      <td>148.75</td>\n",
       "      <td>147.00</td>\n",
       "      <td>147.90</td>\n",
       "      <td>-0.009466</td>\n",
       "    </tr>\n",
       "    <tr>\n",
       "      <th>2022-01-07</th>\n",
       "      <td>148.30</td>\n",
       "      <td>149.00</td>\n",
       "      <td>146.50</td>\n",
       "      <td>146.60</td>\n",
       "      <td>-0.008868</td>\n",
       "    </tr>\n",
       "    <tr>\n",
       "      <th>...</th>\n",
       "      <td>...</td>\n",
       "      <td>...</td>\n",
       "      <td>...</td>\n",
       "      <td>...</td>\n",
       "      <td>...</td>\n",
       "    </tr>\n",
       "    <tr>\n",
       "      <th>2022-10-25</th>\n",
       "      <td>98.60</td>\n",
       "      <td>98.60</td>\n",
       "      <td>96.50</td>\n",
       "      <td>96.70</td>\n",
       "      <td>-0.019648</td>\n",
       "    </tr>\n",
       "    <tr>\n",
       "      <th>2022-10-26</th>\n",
       "      <td>96.85</td>\n",
       "      <td>98.00</td>\n",
       "      <td>96.50</td>\n",
       "      <td>97.60</td>\n",
       "      <td>0.009221</td>\n",
       "    </tr>\n",
       "    <tr>\n",
       "      <th>2022-10-27</th>\n",
       "      <td>98.50</td>\n",
       "      <td>99.35</td>\n",
       "      <td>98.50</td>\n",
       "      <td>99.00</td>\n",
       "      <td>0.014141</td>\n",
       "    </tr>\n",
       "    <tr>\n",
       "      <th>2022-10-28</th>\n",
       "      <td>98.60</td>\n",
       "      <td>98.60</td>\n",
       "      <td>97.25</td>\n",
       "      <td>97.75</td>\n",
       "      <td>-0.012788</td>\n",
       "    </tr>\n",
       "    <tr>\n",
       "      <th>2022-10-31</th>\n",
       "      <td>98.85</td>\n",
       "      <td>99.35</td>\n",
       "      <td>98.10</td>\n",
       "      <td>99.05</td>\n",
       "      <td>0.013125</td>\n",
       "    </tr>\n",
       "  </tbody>\n",
       "</table>\n",
       "<p>202 rows × 5 columns</p>\n",
       "</div>"
      ],
      "text/plain": [
       "               開盤價     最高價     最低價     收盤價       報酬率\n",
       "日期                                                  \n",
       "2022-01-03  146.00  147.35  146.00  146.40       NaN\n",
       "2022-01-04  147.70  149.60  147.70  149.60  0.021390\n",
       "2022-01-05  150.10  150.55  149.10  149.30 -0.002009\n",
       "2022-01-06  148.30  148.75  147.00  147.90 -0.009466\n",
       "2022-01-07  148.30  149.00  146.50  146.60 -0.008868\n",
       "...            ...     ...     ...     ...       ...\n",
       "2022-10-25   98.60   98.60   96.50   96.70 -0.019648\n",
       "2022-10-26   96.85   98.00   96.50   97.60  0.009221\n",
       "2022-10-27   98.50   99.35   98.50   99.00  0.014141\n",
       "2022-10-28   98.60   98.60   97.25   97.75 -0.012788\n",
       "2022-10-31   98.85   99.35   98.10   99.05  0.013125\n",
       "\n",
       "[202 rows x 5 columns]"
      ]
     },
     "execution_count": 8,
     "metadata": {},
     "output_type": "execute_result"
    }
   ],
   "source": [
    "資料_2022"
   ]
  },
  {
   "cell_type": "markdown",
   "id": "3827f078",
   "metadata": {},
   "source": [
    "# 7"
   ]
  },
  {
   "cell_type": "code",
   "execution_count": 9,
   "id": "7e7ec128",
   "metadata": {},
   "outputs": [
    {
     "data": {
      "text/plain": [
       "<AxesSubplot:ylabel='Frequency'>"
      ]
     },
     "execution_count": 9,
     "metadata": {},
     "output_type": "execute_result"
    },
    {
     "data": {
      "image/png": "[encoded data removed]",
      "text/plain": [
       "<Figure size 432x288 with 1 Axes>"
      ]
     },
     "metadata": {
      "needs_background": "light"
     },
     "output_type": "display_data"
    }
   ],
   "source": [
    "資料_2022['報酬率'].plot(kind='hist')"
   ]
  },
  {
   "cell_type": "markdown",
   "id": "30011d0f",
   "metadata": {},
   "source": [
    "# 8"
   ]
  },
  {
   "cell_type": "code",
   "execution_count": 10,
   "id": "1597e008",
   "metadata": {},
   "outputs": [],
   "source": [
    "資料_2022.to_excel(\"./0050_2022.xlsx\")"
   ]
  },
  {
   "cell_type": "markdown",
   "id": "22aa33fc",
   "metadata": {},
   "source": [
    "# 9"
   ]
  },
  {
   "cell_type": "code",
   "execution_count": 11,
   "id": "85fc94f2",
   "metadata": {},
   "outputs": [],
   "source": [
    "import gspread \n",
    "from oauth2client.service_account import ServiceAccountCredentials"
   ]
  },
  {
   "cell_type": "code",
   "execution_count": 12,
   "id": "521cfb71",
   "metadata": {},
   "outputs": [],
   "source": [
    "auth_json = \"testgs.json\"\n",
    "gs_sope = [\"https://spreadsheets.google.com/feeds\"]\n",
    "perm_set = ServiceAccountCredentials.from_json_keyfile_name(auth_json)\n",
    "gc = gspread.authorize(perm_set)\n",
    "tablename = '1O91FqX_t0jlIpiByqjYuk8OpzHXWB9NnaZsvjgDKCEk'\n",
    "gsheet = gc.open_by_key(tablename)"
   ]
  },
  {
   "cell_type": "code",
   "execution_count": 13,
   "id": "6b740401",
   "metadata": {},
   "outputs": [
    {
     "data": {
      "text/plain": [
       "{'spreadsheetId': '1O91FqX_t0jlIpiByqjYuk8OpzHXWB9NnaZsvjgDKCEk',\n",
       " 'updates': {'spreadsheetId': '1O91FqX_t0jlIpiByqjYuk8OpzHXWB9NnaZsvjgDKCEk',\n",
       "  'updatedRange': \"'工作表1'!A1:E1\",\n",
       "  'updatedRows': 1,\n",
       "  'updatedColumns': 5,\n",
       "  'updatedCells': 5}}"
      ]
     },
     "execution_count": 13,
     "metadata": {},
     "output_type": "execute_result"
    }
   ],
   "source": [
    "sheet1 = gsheet.worksheet('工作表1')\n",
    "sheet1.clear()\n",
    "body = list(資料_2022.columns)\n",
    "sheet1.insert_row(body,1)"
   ]
  },
  {
   "cell_type": "markdown",
   "id": "a2445ccd",
   "metadata": {},
   "source": [
    "# 10"
   ]
  },
  {
   "cell_type": "code",
   "execution_count": 14,
   "id": "c30d5869",
   "metadata": {},
   "outputs": [],
   "source": [
    "body = list(資料_2022.loc['2022-03'].values)\n",
    "for i in body:\n",
    "    sheet1.append_row(list(i))"
   ]
  },
  {
   "cell_type": "code",
   "execution_count": null,
   "id": "08892246",
   "metadata": {},
   "outputs": [],
   "source": []
  }
 ],
 "metadata": {
  "kernelspec": {
   "display_name": "Python 3",
   "language": "python",
   "name": "python3"
  },
  "language_info": {
   "codemirror_mode": {
    "name": "ipython",
    "version": 3
   },
   "file_extension": ".py",
   "mimetype": "text/x-python",
   "name": "python",
   "nbconvert_exporter": "python",
   "pygments_lexer": "ipython3",
   "version": "3.8.8"
  }
 },
 "nbformat": 4,
 "nbformat_minor": 5
}
