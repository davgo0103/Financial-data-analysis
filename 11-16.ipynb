{
 "cells": [
  {
   "cell_type": "code",
   "execution_count": 9,
   "id": "3cbbf62c",
   "metadata": {},
   "outputs": [],
   "source": [
    "import sqlite3"
   ]
  },
  {
   "cell_type": "code",
   "execution_count": 10,
   "id": "20d90ce2",
   "metadata": {},
   "outputs": [],
   "source": [
    "database = \"test.db\""
   ]
  },
  {
   "cell_type": "code",
   "execution_count": 11,
   "id": "c30ad1cc",
   "metadata": {},
   "outputs": [],
   "source": [
    "link = sqlite3.connect(database)"
   ]
  },
  {
   "cell_type": "code",
   "execution_count": 12,
   "id": "456f5ee6",
   "metadata": {},
   "outputs": [],
   "source": [
    "ctr = link.cursor()"
   ]
  },
  {
   "cell_type": "code",
   "execution_count": 13,
   "id": "f0fdb5a5",
   "metadata": {},
   "outputs": [],
   "source": [
    "sql = \"\"\"\n",
    "CREATE Table If Not Exists 期中成績 \\\n",
    "(\"座號\" Integer Not Null, \\\n",
    "\"姓名\" Text Not Null,\\\n",
    "\"大數據\" Integer Not Null,\\\n",
    "\"資料庫\" Integer Not Null,\\\n",
    "\"財務管理\" Integer Not Null)\n",
    "\"\"\""
   ]
  },
  {
   "cell_type": "code",
   "execution_count": 14,
   "id": "235b559f",
   "metadata": {},
   "outputs": [
    {
     "data": {
      "text/plain": [
       "<sqlite3.Cursor at 0x2798c91d3b0>"
      ]
     },
     "execution_count": 14,
     "metadata": {},
     "output_type": "execute_result"
    }
   ],
   "source": [
    "ctr.execute(sql)"
   ]
  },
  {
   "cell_type": "code",
   "execution_count": null,
   "id": "1028af01",
   "metadata": {},
   "outputs": [],
   "source": []
  }
 ],
 "metadata": {
  "kernelspec": {
   "display_name": "Python 3.7.8 64-bit",
   "language": "python",
   "name": "python3"
  },
  "language_info": {
   "codemirror_mode": {
    "name": "ipython",
    "version": 3
   },
   "file_extension": ".py",
   "mimetype": "text/x-python",
   "name": "python",
   "nbconvert_exporter": "python",
   "pygments_lexer": "ipython3",
   "version": "3.7.8"
  },
  "vscode": {
   "interpreter": {
    "hash": "0a54084e6b208ee8d1ce3989ffc20924477a5f55f5a43e22e699a6741623861e"
   }
  }
 },
 "nbformat": 4,
 "nbformat_minor": 5
}
