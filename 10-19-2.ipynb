{
 "cells": [
  {
   "cell_type": "code",
   "execution_count": 10,
   "id": "61f3c75e",
   "metadata": {
    "collapsed": true
   },
   "outputs": [
    {
     "name": "stdout",
     "output_type": "stream",
     "text": [
      "Requirement already satisfied: gspread in c:\\programdata\\anaconda3\\lib\\site-packages (5.6.0)\n",
      "Requirement already satisfied: oauth2client in c:\\programdata\\anaconda3\\lib\\site-packages (4.1.3)\n",
      "Requirement already satisfied: google-auth>=1.12.0 in c:\\programdata\\anaconda3\\lib\\site-packages (from gspread) (2.13.0)\n",
      "Requirement already satisfied: google-auth-oauthlib>=0.4.1 in c:\\programdata\\anaconda3\\lib\\site-packages (from gspread) (0.5.3)\n",
      "Requirement already satisfied: six>=1.9.0 in c:\\programdata\\anaconda3\\lib\\site-packages (from google-auth>=1.12.0->gspread) (1.15.0)\n",
      "Requirement already satisfied: cachetools<6.0,>=2.0.0 in c:\\programdata\\anaconda3\\lib\\site-packages (from google-auth>=1.12.0->gspread) (5.2.0)\n",
      "Requirement already satisfied: rsa<5,>=3.1.4 in c:\\programdata\\anaconda3\\lib\\site-packages (from google-auth>=1.12.0->gspread) (4.9)\n",
      "Requirement already satisfied: pyasn1-modules>=0.2.1 in c:\\programdata\\anaconda3\\lib\\site-packages (from google-auth>=1.12.0->gspread) (0.2.8)\n",
      "Requirement already satisfied: requests-oauthlib>=0.7.0 in c:\\programdata\\anaconda3\\lib\\site-packages (from google-auth-oauthlib>=0.4.1->gspread) (1.3.1)\n",
      "Requirement already satisfied: pyasn1<0.5.0,>=0.4.6 in c:\\programdata\\anaconda3\\lib\\site-packages (from pyasn1-modules>=0.2.1->google-auth>=1.12.0->gspread) (0.4.8)\n",
      "Requirement already satisfied: requests>=2.0.0 in c:\\programdata\\anaconda3\\lib\\site-packages (from requests-oauthlib>=0.7.0->google-auth-oauthlib>=0.4.1->gspread) (2.25.1)\n",
      "Requirement already satisfied: oauthlib>=3.0.0 in c:\\programdata\\anaconda3\\lib\\site-packages (from requests-oauthlib>=0.7.0->google-auth-oauthlib>=0.4.1->gspread) (3.2.2)\n",
      "Requirement already satisfied: urllib3<1.27,>=1.21.1 in c:\\programdata\\anaconda3\\lib\\site-packages (from requests>=2.0.0->requests-oauthlib>=0.7.0->google-auth-oauthlib>=0.4.1->gspread) (1.26.4)\n",
      "Requirement already satisfied: certifi>=2017.4.17 in c:\\programdata\\anaconda3\\lib\\site-packages (from requests>=2.0.0->requests-oauthlib>=0.7.0->google-auth-oauthlib>=0.4.1->gspread) (2020.12.5)\n",
      "Requirement already satisfied: chardet<5,>=3.0.2 in c:\\programdata\\anaconda3\\lib\\site-packages (from requests>=2.0.0->requests-oauthlib>=0.7.0->google-auth-oauthlib>=0.4.1->gspread) (4.0.0)\n",
      "Requirement already satisfied: idna<3,>=2.5 in c:\\programdata\\anaconda3\\lib\\site-packages (from requests>=2.0.0->requests-oauthlib>=0.7.0->google-auth-oauthlib>=0.4.1->gspread) (2.10)\n",
      "Requirement already satisfied: httplib2>=0.9.1 in c:\\programdata\\anaconda3\\lib\\site-packages (from oauth2client) (0.20.4)\n",
      "Requirement already satisfied: pyparsing!=3.0.0,!=3.0.1,!=3.0.2,!=3.0.3,<4,>=2.4.2 in c:\\programdata\\anaconda3\\lib\\site-packages (from httplib2>=0.9.1->oauth2client) (2.4.7)\n"
     ]
    }
   ],
   "source": [
    "! pip install gspread oauth2client"
   ]
  },
  {
   "cell_type": "code",
   "execution_count": 11,
   "id": "960c4d39",
   "metadata": {},
   "outputs": [],
   "source": [
    "import gspread \n",
    "from oauth2client.service_account import ServiceAccountCredentials"
   ]
  },
  {
   "cell_type": "code",
   "execution_count": 12,
   "id": "04c1767d",
   "metadata": {},
   "outputs": [],
   "source": [
    "auth_json = \"testgs.json\"\n",
    "gs_sope = [\"https://spreadsheets.google.com/feeds\"]"
   ]
  },
  {
   "cell_type": "code",
   "execution_count": 13,
   "id": "24090cec",
   "metadata": {},
   "outputs": [],
   "source": [
    "perm_set = ServiceAccountCredentials.from_json_keyfile_name(auth_json)"
   ]
  },
  {
   "cell_type": "code",
   "execution_count": 16,
   "id": "27b69bff",
   "metadata": {},
   "outputs": [],
   "source": [
    "gc = gspread.authorize(perm_set)"
   ]
  },
  {
   "cell_type": "code",
   "execution_count": 18,
   "id": "87912836",
   "metadata": {},
   "outputs": [],
   "source": [
    "tablename = '1O91FqX_t0jlIpiByqjYuk8OpzHXWB9NnaZsvjgDKCEk'"
   ]
  },
  {
   "cell_type": "code",
   "execution_count": 19,
   "id": "714f5087",
   "metadata": {},
   "outputs": [],
   "source": [
    "gsheet = gc.open_by_key(tablename)"
   ]
  },
  {
   "cell_type": "code",
   "execution_count": 20,
   "id": "b0275bec",
   "metadata": {},
   "outputs": [
    {
     "data": {
      "text/plain": [
       "'金融大數據分析'"
      ]
     },
     "execution_count": 20,
     "metadata": {},
     "output_type": "execute_result"
    }
   ],
   "source": [
    "gsheet.title"
   ]
  },
  {
   "cell_type": "code",
   "execution_count": null,
   "id": "4fd204d3",
   "metadata": {},
   "outputs": [],
   "source": []
  }
 ],
 "metadata": {
  "kernelspec": {
   "display_name": "Python 3",
   "language": "python",
   "name": "python3"
  },
  "language_info": {
   "codemirror_mode": {
    "name": "ipython",
    "version": 3
   },
   "file_extension": ".py",
   "mimetype": "text/x-python",
   "name": "python",
   "nbconvert_exporter": "python",
   "pygments_lexer": "ipython3",
   "version": "3.8.8"
  }
 },
 "nbformat": 4,
 "nbformat_minor": 5
}
