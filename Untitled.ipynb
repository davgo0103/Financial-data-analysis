{
 "cells": [
  {
   "cell_type": "code",
   "execution_count": 1,
   "id": "ff52d129",
   "metadata": {},
   "outputs": [],
   "source": [
    "import pandas"
   ]
  },
  {
   "cell_type": "code",
   "execution_count": 2,
   "id": "fa6b1139",
   "metadata": {},
   "outputs": [],
   "source": [
    "shareprice = pandas.read_excel(\"./data.xlsx\")"
   ]
  },
  {
   "cell_type": "code",
   "execution_count": 3,
   "id": "27b59523",
   "metadata": {},
   "outputs": [],
   "source": [
    "shareprice.to_excel(\"./owo.xlsx\")"
   ]
  },
  {
   "cell_type": "code",
   "execution_count": 4,
   "id": "f5015530",
   "metadata": {},
   "outputs": [
    {
     "data": {
      "text/plain": [
       "'日期'"
      ]
     },
     "execution_count": 4,
     "metadata": {},
     "output_type": "execute_result"
    }
   ],
   "source": [
    "shareprice.columns[0]"
   ]
  },
  {
   "cell_type": "code",
   "execution_count": 5,
   "id": "310565d2",
   "metadata": {},
   "outputs": [
    {
     "data": {
      "text/html": [
       "<div>\n",
       "<style scoped>\n",
       "    .dataframe tbody tr th:only-of-type {\n",
       "        vertical-align: middle;\n",
       "    }\n",
       "\n",
       "    .dataframe tbody tr th {\n",
       "        vertical-align: top;\n",
       "    }\n",
       "\n",
       "    .dataframe thead th {\n",
       "        text-align: right;\n",
       "    }\n",
       "</style>\n",
       "<table border=\"1\" class=\"dataframe\">\n",
       "  <thead>\n",
       "    <tr style=\"text-align: right;\">\n",
       "      <th></th>\n",
       "      <th>日期</th>\n",
       "      <th>開盤價</th>\n",
       "      <th>最高價</th>\n",
       "      <th>最低價</th>\n",
       "      <th>收盤價</th>\n",
       "    </tr>\n",
       "  </thead>\n",
       "  <tbody>\n",
       "    <tr>\n",
       "      <th>0</th>\n",
       "      <td>2022/01/03</td>\n",
       "      <td>619.0</td>\n",
       "      <td>632.0</td>\n",
       "      <td>618.0</td>\n",
       "      <td>631.0</td>\n",
       "    </tr>\n",
       "    <tr>\n",
       "      <th>1</th>\n",
       "      <td>2022/01/04</td>\n",
       "      <td>645.0</td>\n",
       "      <td>656.0</td>\n",
       "      <td>644.0</td>\n",
       "      <td>656.0</td>\n",
       "    </tr>\n",
       "    <tr>\n",
       "      <th>2</th>\n",
       "      <td>2022/01/05</td>\n",
       "      <td>669.0</td>\n",
       "      <td>669.0</td>\n",
       "      <td>646.0</td>\n",
       "      <td>650.0</td>\n",
       "    </tr>\n",
       "    <tr>\n",
       "      <th>3</th>\n",
       "      <td>2022/01/06</td>\n",
       "      <td>638.0</td>\n",
       "      <td>646.0</td>\n",
       "      <td>636.0</td>\n",
       "      <td>644.0</td>\n",
       "    </tr>\n",
       "    <tr>\n",
       "      <th>4</th>\n",
       "      <td>2022/01/07</td>\n",
       "      <td>643.0</td>\n",
       "      <td>646.0</td>\n",
       "      <td>632.0</td>\n",
       "      <td>634.0</td>\n",
       "    </tr>\n",
       "    <tr>\n",
       "      <th>...</th>\n",
       "      <td>...</td>\n",
       "      <td>...</td>\n",
       "      <td>...</td>\n",
       "      <td>...</td>\n",
       "      <td>...</td>\n",
       "    </tr>\n",
       "    <tr>\n",
       "      <th>179</th>\n",
       "      <td>2022/09/28</td>\n",
       "      <td>447.0</td>\n",
       "      <td>449.0</td>\n",
       "      <td>438.0</td>\n",
       "      <td>438.0</td>\n",
       "    </tr>\n",
       "    <tr>\n",
       "      <th>180</th>\n",
       "      <td>2022/09/29</td>\n",
       "      <td>443.0</td>\n",
       "      <td>443.5</td>\n",
       "      <td>432.0</td>\n",
       "      <td>435.0</td>\n",
       "    </tr>\n",
       "    <tr>\n",
       "      <th>181</th>\n",
       "      <td>2022/09/30</td>\n",
       "      <td>424.5</td>\n",
       "      <td>427.5</td>\n",
       "      <td>422.0</td>\n",
       "      <td>422.0</td>\n",
       "    </tr>\n",
       "    <tr>\n",
       "      <th>182</th>\n",
       "      <td>2022/10/03</td>\n",
       "      <td>418.5</td>\n",
       "      <td>424.5</td>\n",
       "      <td>416.5</td>\n",
       "      <td>417.0</td>\n",
       "    </tr>\n",
       "    <tr>\n",
       "      <th>183</th>\n",
       "      <td>2022/10/04</td>\n",
       "      <td>429.5</td>\n",
       "      <td>432.0</td>\n",
       "      <td>427.0</td>\n",
       "      <td>429.0</td>\n",
       "    </tr>\n",
       "  </tbody>\n",
       "</table>\n",
       "<p>184 rows × 5 columns</p>\n",
       "</div>"
      ],
      "text/plain": [
       "             日期    開盤價    最高價    最低價    收盤價\n",
       "0    2022/01/03  619.0  632.0  618.0  631.0\n",
       "1    2022/01/04  645.0  656.0  644.0  656.0\n",
       "2    2022/01/05  669.0  669.0  646.0  650.0\n",
       "3    2022/01/06  638.0  646.0  636.0  644.0\n",
       "4    2022/01/07  643.0  646.0  632.0  634.0\n",
       "..          ...    ...    ...    ...    ...\n",
       "179  2022/09/28  447.0  449.0  438.0  438.0\n",
       "180  2022/09/29  443.0  443.5  432.0  435.0\n",
       "181  2022/09/30  424.5  427.5  422.0  422.0\n",
       "182  2022/10/03  418.5  424.5  416.5  417.0\n",
       "183  2022/10/04  429.5  432.0  427.0  429.0\n",
       "\n",
       "[184 rows x 5 columns]"
      ]
     },
     "execution_count": 5,
     "metadata": {},
     "output_type": "execute_result"
    }
   ],
   "source": [
    "shareprice"
   ]
  },
  {
   "cell_type": "code",
   "execution_count": 6,
   "id": "ca64e572",
   "metadata": {},
   "outputs": [
    {
     "data": {
      "text/plain": [
       "632.0"
      ]
     },
     "execution_count": 6,
     "metadata": {},
     "output_type": "execute_result"
    }
   ],
   "source": [
    "shareprice.iloc[4]['最低價']"
   ]
  },
  {
   "cell_type": "code",
   "execution_count": 7,
   "id": "691cf6ff",
   "metadata": {},
   "outputs": [
    {
     "data": {
      "text/plain": [
       "632.0"
      ]
     },
     "execution_count": 7,
     "metadata": {},
     "output_type": "execute_result"
    }
   ],
   "source": [
    "shareprice['最低價'][4]"
   ]
  },
  {
   "cell_type": "code",
   "execution_count": 8,
   "id": "45b7a8f3",
   "metadata": {},
   "outputs": [
    {
     "data": {
      "text/plain": [
       "632.0"
      ]
     },
     "execution_count": 8,
     "metadata": {},
     "output_type": "execute_result"
    }
   ],
   "source": [
    "shareprice['最低價'].iloc[4]"
   ]
  },
  {
   "cell_type": "code",
   "execution_count": 9,
   "id": "eb91e396",
   "metadata": {},
   "outputs": [
    {
     "name": "stdout",
     "output_type": "stream",
     "text": [
      "631.0\n",
      "656.0\n",
      "650.0\n",
      "644.0\n",
      "634.0\n",
      "643.0\n"
     ]
    }
   ],
   "source": [
    "for i in range(6):\n",
    "        print(shareprice['收盤價'][i])"
   ]
  },
  {
   "cell_type": "code",
   "execution_count": 10,
   "id": "f498a9b5",
   "metadata": {},
   "outputs": [
    {
     "data": {
      "text/plain": [
       "0    631.0\n",
       "1    656.0\n",
       "2    650.0\n",
       "3    644.0\n",
       "4    634.0\n",
       "5    643.0\n",
       "Name: 收盤價, dtype: float64"
      ]
     },
     "execution_count": 10,
     "metadata": {},
     "output_type": "execute_result"
    }
   ],
   "source": [
    "shareprice['收盤價'][0:6]"
   ]
  },
  {
   "cell_type": "code",
   "execution_count": 11,
   "id": "f367473f",
   "metadata": {},
   "outputs": [],
   "source": [
    "shareprice = shareprice.set_index('日期')"
   ]
  },
  {
   "cell_type": "code",
   "execution_count": 15,
   "id": "37e2a0a5",
   "metadata": {},
   "outputs": [
    {
     "data": {
      "text/plain": [
       "<bound method DataFrame.info of               開盤價    最高價    最低價    收盤價\n",
       "日期                                    \n",
       "2022/01/03  619.0  632.0  618.0  631.0\n",
       "2022/01/04  645.0  656.0  644.0  656.0\n",
       "2022/01/05  669.0  669.0  646.0  650.0\n",
       "2022/01/06  638.0  646.0  636.0  644.0\n",
       "2022/01/07  643.0  646.0  632.0  634.0\n",
       "...           ...    ...    ...    ...\n",
       "2022/09/28  447.0  449.0  438.0  438.0\n",
       "2022/09/29  443.0  443.5  432.0  435.0\n",
       "2022/09/30  424.5  427.5  422.0  422.0\n",
       "2022/10/03  418.5  424.5  416.5  417.0\n",
       "2022/10/04  429.5  432.0  427.0  429.0\n",
       "\n",
       "[184 rows x 4 columns]>"
      ]
     },
     "execution_count": 15,
     "metadata": {},
     "output_type": "execute_result"
    }
   ],
   "source": [
    "shareprice.info"
   ]
  },
  {
   "cell_type": "code",
   "execution_count": 23,
   "id": "40131d05",
   "metadata": {},
   "outputs": [
    {
     "data": {
      "text/plain": [
       "日期\n",
       "2022/01/03    632.0\n",
       "2022/01/04    656.0\n",
       "2022/01/05    669.0\n",
       "2022/01/06    646.0\n",
       "2022/01/07    646.0\n",
       "2022/01/10    645.0\n",
       "Name: 最高價, dtype: float64"
      ]
     },
     "execution_count": 23,
     "metadata": {},
     "output_type": "execute_result"
    }
   ],
   "source": [
    "shareprice.loc['2022/01/03':'2022/01/10','最高價']"
   ]
  },
  {
   "cell_type": "code",
   "execution_count": 24,
   "id": "5bb81fc5",
   "metadata": {},
   "outputs": [],
   "source": [
    "shareprice.index = pandas.to_datetime(shareprice.index)"
   ]
  },
  {
   "cell_type": "code",
   "execution_count": 25,
   "id": "20a24db5",
   "metadata": {},
   "outputs": [
    {
     "data": {
      "text/html": [
       "<div>\n",
       "<style scoped>\n",
       "    .dataframe tbody tr th:only-of-type {\n",
       "        vertical-align: middle;\n",
       "    }\n",
       "\n",
       "    .dataframe tbody tr th {\n",
       "        vertical-align: top;\n",
       "    }\n",
       "\n",
       "    .dataframe thead th {\n",
       "        text-align: right;\n",
       "    }\n",
       "</style>\n",
       "<table border=\"1\" class=\"dataframe\">\n",
       "  <thead>\n",
       "    <tr style=\"text-align: right;\">\n",
       "      <th></th>\n",
       "      <th>開盤價</th>\n",
       "      <th>最高價</th>\n",
       "      <th>最低價</th>\n",
       "      <th>收盤價</th>\n",
       "    </tr>\n",
       "    <tr>\n",
       "      <th>日期</th>\n",
       "      <th></th>\n",
       "      <th></th>\n",
       "      <th></th>\n",
       "      <th></th>\n",
       "    </tr>\n",
       "  </thead>\n",
       "  <tbody>\n",
       "    <tr>\n",
       "      <th>2022-04-01</th>\n",
       "      <td>585.0</td>\n",
       "      <td>589.0</td>\n",
       "      <td>584.0</td>\n",
       "      <td>589.0</td>\n",
       "    </tr>\n",
       "    <tr>\n",
       "      <th>2022-04-06</th>\n",
       "      <td>578.0</td>\n",
       "      <td>580.0</td>\n",
       "      <td>575.0</td>\n",
       "      <td>578.0</td>\n",
       "    </tr>\n",
       "    <tr>\n",
       "      <th>2022-04-07</th>\n",
       "      <td>571.0</td>\n",
       "      <td>573.0</td>\n",
       "      <td>566.0</td>\n",
       "      <td>566.0</td>\n",
       "    </tr>\n",
       "    <tr>\n",
       "      <th>2022-04-08</th>\n",
       "      <td>567.0</td>\n",
       "      <td>570.0</td>\n",
       "      <td>566.0</td>\n",
       "      <td>567.0</td>\n",
       "    </tr>\n",
       "    <tr>\n",
       "      <th>2022-04-11</th>\n",
       "      <td>563.0</td>\n",
       "      <td>566.0</td>\n",
       "      <td>558.0</td>\n",
       "      <td>558.0</td>\n",
       "    </tr>\n",
       "    <tr>\n",
       "      <th>...</th>\n",
       "      <td>...</td>\n",
       "      <td>...</td>\n",
       "      <td>...</td>\n",
       "      <td>...</td>\n",
       "    </tr>\n",
       "    <tr>\n",
       "      <th>2022-06-24</th>\n",
       "      <td>489.5</td>\n",
       "      <td>492.5</td>\n",
       "      <td>485.5</td>\n",
       "      <td>486.5</td>\n",
       "    </tr>\n",
       "    <tr>\n",
       "      <th>2022-06-27</th>\n",
       "      <td>496.0</td>\n",
       "      <td>506.0</td>\n",
       "      <td>495.5</td>\n",
       "      <td>498.5</td>\n",
       "    </tr>\n",
       "    <tr>\n",
       "      <th>2022-06-28</th>\n",
       "      <td>496.0</td>\n",
       "      <td>500.0</td>\n",
       "      <td>496.0</td>\n",
       "      <td>497.5</td>\n",
       "    </tr>\n",
       "    <tr>\n",
       "      <th>2022-06-29</th>\n",
       "      <td>496.0</td>\n",
       "      <td>498.5</td>\n",
       "      <td>491.0</td>\n",
       "      <td>491.0</td>\n",
       "    </tr>\n",
       "    <tr>\n",
       "      <th>2022-06-30</th>\n",
       "      <td>484.5</td>\n",
       "      <td>486.5</td>\n",
       "      <td>476.0</td>\n",
       "      <td>476.0</td>\n",
       "    </tr>\n",
       "  </tbody>\n",
       "</table>\n",
       "<p>61 rows × 4 columns</p>\n",
       "</div>"
      ],
      "text/plain": [
       "              開盤價    最高價    最低價    收盤價\n",
       "日期                                    \n",
       "2022-04-01  585.0  589.0  584.0  589.0\n",
       "2022-04-06  578.0  580.0  575.0  578.0\n",
       "2022-04-07  571.0  573.0  566.0  566.0\n",
       "2022-04-08  567.0  570.0  566.0  567.0\n",
       "2022-04-11  563.0  566.0  558.0  558.0\n",
       "...           ...    ...    ...    ...\n",
       "2022-06-24  489.5  492.5  485.5  486.5\n",
       "2022-06-27  496.0  506.0  495.5  498.5\n",
       "2022-06-28  496.0  500.0  496.0  497.5\n",
       "2022-06-29  496.0  498.5  491.0  491.0\n",
       "2022-06-30  484.5  486.5  476.0  476.0\n",
       "\n",
       "[61 rows x 4 columns]"
      ]
     },
     "execution_count": 25,
     "metadata": {},
     "output_type": "execute_result"
    }
   ],
   "source": [
    "shareprice.loc['2022Q2']"
   ]
  },
  {
   "cell_type": "code",
   "execution_count": null,
   "id": "7a384bd3",
   "metadata": {},
   "outputs": [],
   "source": []
  }
 ],
 "metadata": {
  "kernelspec": {
   "display_name": "Python 3",
   "language": "python",
   "name": "python3"
  },
  "language_info": {
   "codemirror_mode": {
    "name": "ipython",
    "version": 3
   },
   "file_extension": ".py",
   "mimetype": "text/x-python",
   "name": "python",
   "nbconvert_exporter": "python",
   "pygments_lexer": "ipython3",
   "version": "3.8.8"
  }
 },
 "nbformat": 4,
 "nbformat_minor": 5
}
