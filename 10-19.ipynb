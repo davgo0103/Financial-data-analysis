{
 "cells": [
  {
   "cell_type": "code",
   "execution_count": 1,
   "id": "27b54e21",
   "metadata": {},
   "outputs": [],
   "source": [
    "import pandas\n",
    "shareprice = pandas.read_excel(\"./data.xlsx\")\n",
    "shareprice = shareprice.set_index('日期')\n",
    "shareprice.index = pandas.to_datetime(shareprice.index)"
   ]
  },
  {
   "cell_type": "code",
   "execution_count": 2,
   "id": "45559e70",
   "metadata": {
    "scrolled": true
   },
   "outputs": [
    {
     "data": {
      "text/plain": [
       "日期\n",
       "2022-01-03    0.019017\n",
       "2022-01-04    0.016768\n",
       "2022-01-05   -0.029231\n",
       "2022-01-06    0.009317\n",
       "2022-01-07   -0.014196\n",
       "                ...   \n",
       "2022-09-28   -0.020548\n",
       "2022-09-29   -0.018391\n",
       "2022-09-30   -0.005924\n",
       "2022-10-03   -0.003597\n",
       "2022-10-04   -0.001166\n",
       "Length: 184, dtype: float64"
      ]
     },
     "execution_count": 2,
     "metadata": {},
     "output_type": "execute_result"
    }
   ],
   "source": [
    "((shareprice['收盤價'] - shareprice['開盤價']) / shareprice['收盤價']) "
   ]
  },
  {
   "cell_type": "code",
   "execution_count": 3,
   "id": "d4dabb58",
   "metadata": {},
   "outputs": [
    {
     "data": {
      "text/plain": [
       "日期\n",
       "2022-01-03         NaN\n",
       "2022-01-04    0.038110\n",
       "2022-01-05   -0.009231\n",
       "2022-01-06   -0.009317\n",
       "2022-01-07   -0.015773\n",
       "                ...   \n",
       "2022-09-28   -0.022831\n",
       "2022-09-29   -0.006897\n",
       "2022-09-30   -0.030806\n",
       "2022-10-03   -0.011990\n",
       "2022-10-04    0.027972\n",
       "Name: 收盤價, Length: 184, dtype: float64"
      ]
     },
     "execution_count": 3,
     "metadata": {},
     "output_type": "execute_result"
    }
   ],
   "source": [
    "(shareprice['收盤價'] - shareprice['收盤價'].shift(1)) / shareprice['收盤價']"
   ]
  },
  {
   "cell_type": "code",
   "execution_count": 4,
   "id": "d3ecdb81",
   "metadata": {},
   "outputs": [
    {
     "data": {
      "text/plain": [
       "540.991847826087"
      ]
     },
     "execution_count": 4,
     "metadata": {},
     "output_type": "execute_result"
    }
   ],
   "source": [
    "shareprice['收盤價'].mean()"
   ]
  },
  {
   "cell_type": "code",
   "execution_count": 5,
   "id": "230d1702",
   "metadata": {},
   "outputs": [
    {
     "data": {
      "text/plain": [
       "416.5"
      ]
     },
     "execution_count": 5,
     "metadata": {},
     "output_type": "execute_result"
    }
   ],
   "source": [
    "shareprice['最低價'].min()"
   ]
  },
  {
   "cell_type": "code",
   "execution_count": 6,
   "id": "4c572030",
   "metadata": {},
   "outputs": [
    {
     "data": {
      "text/plain": [
       "0.385673931205462"
      ]
     },
     "execution_count": 6,
     "metadata": {},
     "output_type": "execute_result"
    }
   ],
   "source": [
    "shareprice['收盤價'].skew()"
   ]
  },
  {
   "cell_type": "code",
   "execution_count": 7,
   "id": "f5ebb848",
   "metadata": {},
   "outputs": [
    {
     "data": {
      "text/plain": [
       "-0.7085335449071795"
      ]
     },
     "execution_count": 7,
     "metadata": {},
     "output_type": "execute_result"
    }
   ],
   "source": [
    "shareprice['收盤價'].kurt()"
   ]
  },
  {
   "cell_type": "code",
   "execution_count": 8,
   "id": "e01429e2",
   "metadata": {},
   "outputs": [
    {
     "data": {
      "text/html": [
       "<div>\n",
       "<style scoped>\n",
       "    .dataframe tbody tr th:only-of-type {\n",
       "        vertical-align: middle;\n",
       "    }\n",
       "\n",
       "    .dataframe tbody tr th {\n",
       "        vertical-align: top;\n",
       "    }\n",
       "\n",
       "    .dataframe thead th {\n",
       "        text-align: right;\n",
       "    }\n",
       "</style>\n",
       "<table border=\"1\" class=\"dataframe\">\n",
       "  <thead>\n",
       "    <tr style=\"text-align: right;\">\n",
       "      <th></th>\n",
       "      <th>開盤價</th>\n",
       "      <th>最高價</th>\n",
       "      <th>最低價</th>\n",
       "      <th>收盤價</th>\n",
       "    </tr>\n",
       "  </thead>\n",
       "  <tbody>\n",
       "    <tr>\n",
       "      <th>count</th>\n",
       "      <td>184.000000</td>\n",
       "      <td>184.000000</td>\n",
       "      <td>184.000000</td>\n",
       "      <td>184.000000</td>\n",
       "    </tr>\n",
       "    <tr>\n",
       "      <th>mean</th>\n",
       "      <td>541.160326</td>\n",
       "      <td>545.179348</td>\n",
       "      <td>537.211957</td>\n",
       "      <td>540.991848</td>\n",
       "    </tr>\n",
       "    <tr>\n",
       "      <th>std</th>\n",
       "      <td>61.951992</td>\n",
       "      <td>62.059842</td>\n",
       "      <td>61.618460</td>\n",
       "      <td>62.271933</td>\n",
       "    </tr>\n",
       "    <tr>\n",
       "      <th>min</th>\n",
       "      <td>418.500000</td>\n",
       "      <td>424.500000</td>\n",
       "      <td>416.500000</td>\n",
       "      <td>417.000000</td>\n",
       "    </tr>\n",
       "    <tr>\n",
       "      <th>25%</th>\n",
       "      <td>496.000000</td>\n",
       "      <td>501.750000</td>\n",
       "      <td>493.750000</td>\n",
       "      <td>497.875000</td>\n",
       "    </tr>\n",
       "    <tr>\n",
       "      <th>50%</th>\n",
       "      <td>525.000000</td>\n",
       "      <td>531.000000</td>\n",
       "      <td>522.500000</td>\n",
       "      <td>527.500000</td>\n",
       "    </tr>\n",
       "    <tr>\n",
       "      <th>75%</th>\n",
       "      <td>582.250000</td>\n",
       "      <td>586.750000</td>\n",
       "      <td>580.500000</td>\n",
       "      <td>584.500000</td>\n",
       "    </tr>\n",
       "    <tr>\n",
       "      <th>max</th>\n",
       "      <td>685.000000</td>\n",
       "      <td>688.000000</td>\n",
       "      <td>678.000000</td>\n",
       "      <td>683.000000</td>\n",
       "    </tr>\n",
       "  </tbody>\n",
       "</table>\n",
       "</div>"
      ],
      "text/plain": [
       "              開盤價         最高價         最低價         收盤價\n",
       "count  184.000000  184.000000  184.000000  184.000000\n",
       "mean   541.160326  545.179348  537.211957  540.991848\n",
       "std     61.951992   62.059842   61.618460   62.271933\n",
       "min    418.500000  424.500000  416.500000  417.000000\n",
       "25%    496.000000  501.750000  493.750000  497.875000\n",
       "50%    525.000000  531.000000  522.500000  527.500000\n",
       "75%    582.250000  586.750000  580.500000  584.500000\n",
       "max    685.000000  688.000000  678.000000  683.000000"
      ]
     },
     "execution_count": 8,
     "metadata": {},
     "output_type": "execute_result"
    }
   ],
   "source": [
    "shareprice.describe()"
   ]
  },
  {
   "cell_type": "code",
   "execution_count": 9,
   "id": "1ec12940",
   "metadata": {},
   "outputs": [
    {
     "data": {
      "text/plain": [
       "-31.0"
      ]
     },
     "execution_count": 9,
     "metadata": {},
     "output_type": "execute_result"
    }
   ],
   "source": [
    "(shareprice['收盤價'] - shareprice['開盤價']).sum()"
   ]
  },
  {
   "cell_type": "code",
   "execution_count": 10,
   "id": "80c7ef41",
   "metadata": {},
   "outputs": [
    {
     "data": {
      "text/plain": [
       "日期\n",
       "2022-01-03    12.0\n",
       "2022-01-04    23.0\n",
       "2022-01-05     4.0\n",
       "2022-01-06    10.0\n",
       "2022-01-07     1.0\n",
       "              ... \n",
       "2022-09-28   -18.5\n",
       "2022-09-29   -26.5\n",
       "2022-09-30   -29.0\n",
       "2022-10-03   -30.5\n",
       "2022-10-04   -31.0\n",
       "Length: 184, dtype: float64"
      ]
     },
     "execution_count": 10,
     "metadata": {},
     "output_type": "execute_result"
    }
   ],
   "source": [
    "(shareprice['收盤價'] - shareprice['開盤價']).cumsum()"
   ]
  },
  {
   "cell_type": "code",
   "execution_count": 11,
   "id": "7facd788",
   "metadata": {},
   "outputs": [],
   "source": [
    "shareprice['當沖損益'] = (shareprice['收盤價'] - shareprice['開盤價'])"
   ]
  },
  {
   "cell_type": "code",
   "execution_count": 12,
   "id": "d1876364",
   "metadata": {},
   "outputs": [],
   "source": [
    "shareprice['當沖累計損益'] = shareprice['當沖損益'].cumsum()"
   ]
  },
  {
   "cell_type": "code",
   "execution_count": 13,
   "id": "a7cf3f92",
   "metadata": {
    "scrolled": true
   },
   "outputs": [
    {
     "data": {
      "text/html": [
       "<div>\n",
       "<style scoped>\n",
       "    .dataframe tbody tr th:only-of-type {\n",
       "        vertical-align: middle;\n",
       "    }\n",
       "\n",
       "    .dataframe tbody tr th {\n",
       "        vertical-align: top;\n",
       "    }\n",
       "\n",
       "    .dataframe thead th {\n",
       "        text-align: right;\n",
       "    }\n",
       "</style>\n",
       "<table border=\"1\" class=\"dataframe\">\n",
       "  <thead>\n",
       "    <tr style=\"text-align: right;\">\n",
       "      <th></th>\n",
       "      <th>開盤價</th>\n",
       "      <th>最高價</th>\n",
       "      <th>最低價</th>\n",
       "      <th>收盤價</th>\n",
       "      <th>當沖損益</th>\n",
       "      <th>當沖累計損益</th>\n",
       "    </tr>\n",
       "    <tr>\n",
       "      <th>日期</th>\n",
       "      <th></th>\n",
       "      <th></th>\n",
       "      <th></th>\n",
       "      <th></th>\n",
       "      <th></th>\n",
       "      <th></th>\n",
       "    </tr>\n",
       "  </thead>\n",
       "  <tbody>\n",
       "    <tr>\n",
       "      <th>2022-01-03</th>\n",
       "      <td>619.0</td>\n",
       "      <td>632.0</td>\n",
       "      <td>618.0</td>\n",
       "      <td>631.0</td>\n",
       "      <td>12.0</td>\n",
       "      <td>12.0</td>\n",
       "    </tr>\n",
       "    <tr>\n",
       "      <th>2022-01-04</th>\n",
       "      <td>645.0</td>\n",
       "      <td>656.0</td>\n",
       "      <td>644.0</td>\n",
       "      <td>656.0</td>\n",
       "      <td>11.0</td>\n",
       "      <td>23.0</td>\n",
       "    </tr>\n",
       "    <tr>\n",
       "      <th>2022-01-05</th>\n",
       "      <td>669.0</td>\n",
       "      <td>669.0</td>\n",
       "      <td>646.0</td>\n",
       "      <td>650.0</td>\n",
       "      <td>-19.0</td>\n",
       "      <td>4.0</td>\n",
       "    </tr>\n",
       "    <tr>\n",
       "      <th>2022-01-06</th>\n",
       "      <td>638.0</td>\n",
       "      <td>646.0</td>\n",
       "      <td>636.0</td>\n",
       "      <td>644.0</td>\n",
       "      <td>6.0</td>\n",
       "      <td>10.0</td>\n",
       "    </tr>\n",
       "    <tr>\n",
       "      <th>2022-01-07</th>\n",
       "      <td>643.0</td>\n",
       "      <td>646.0</td>\n",
       "      <td>632.0</td>\n",
       "      <td>634.0</td>\n",
       "      <td>-9.0</td>\n",
       "      <td>1.0</td>\n",
       "    </tr>\n",
       "    <tr>\n",
       "      <th>...</th>\n",
       "      <td>...</td>\n",
       "      <td>...</td>\n",
       "      <td>...</td>\n",
       "      <td>...</td>\n",
       "      <td>...</td>\n",
       "      <td>...</td>\n",
       "    </tr>\n",
       "    <tr>\n",
       "      <th>2022-09-28</th>\n",
       "      <td>447.0</td>\n",
       "      <td>449.0</td>\n",
       "      <td>438.0</td>\n",
       "      <td>438.0</td>\n",
       "      <td>-9.0</td>\n",
       "      <td>-18.5</td>\n",
       "    </tr>\n",
       "    <tr>\n",
       "      <th>2022-09-29</th>\n",
       "      <td>443.0</td>\n",
       "      <td>443.5</td>\n",
       "      <td>432.0</td>\n",
       "      <td>435.0</td>\n",
       "      <td>-8.0</td>\n",
       "      <td>-26.5</td>\n",
       "    </tr>\n",
       "    <tr>\n",
       "      <th>2022-09-30</th>\n",
       "      <td>424.5</td>\n",
       "      <td>427.5</td>\n",
       "      <td>422.0</td>\n",
       "      <td>422.0</td>\n",
       "      <td>-2.5</td>\n",
       "      <td>-29.0</td>\n",
       "    </tr>\n",
       "    <tr>\n",
       "      <th>2022-10-03</th>\n",
       "      <td>418.5</td>\n",
       "      <td>424.5</td>\n",
       "      <td>416.5</td>\n",
       "      <td>417.0</td>\n",
       "      <td>-1.5</td>\n",
       "      <td>-30.5</td>\n",
       "    </tr>\n",
       "    <tr>\n",
       "      <th>2022-10-04</th>\n",
       "      <td>429.5</td>\n",
       "      <td>432.0</td>\n",
       "      <td>427.0</td>\n",
       "      <td>429.0</td>\n",
       "      <td>-0.5</td>\n",
       "      <td>-31.0</td>\n",
       "    </tr>\n",
       "  </tbody>\n",
       "</table>\n",
       "<p>184 rows × 6 columns</p>\n",
       "</div>"
      ],
      "text/plain": [
       "              開盤價    最高價    最低價    收盤價  當沖損益  當沖累計損益\n",
       "日期                                                  \n",
       "2022-01-03  619.0  632.0  618.0  631.0  12.0    12.0\n",
       "2022-01-04  645.0  656.0  644.0  656.0  11.0    23.0\n",
       "2022-01-05  669.0  669.0  646.0  650.0 -19.0     4.0\n",
       "2022-01-06  638.0  646.0  636.0  644.0   6.0    10.0\n",
       "2022-01-07  643.0  646.0  632.0  634.0  -9.0     1.0\n",
       "...           ...    ...    ...    ...   ...     ...\n",
       "2022-09-28  447.0  449.0  438.0  438.0  -9.0   -18.5\n",
       "2022-09-29  443.0  443.5  432.0  435.0  -8.0   -26.5\n",
       "2022-09-30  424.5  427.5  422.0  422.0  -2.5   -29.0\n",
       "2022-10-03  418.5  424.5  416.5  417.0  -1.5   -30.5\n",
       "2022-10-04  429.5  432.0  427.0  429.0  -0.5   -31.0\n",
       "\n",
       "[184 rows x 6 columns]"
      ]
     },
     "execution_count": 13,
     "metadata": {},
     "output_type": "execute_result"
    }
   ],
   "source": [
    "shareprice"
   ]
  },
  {
   "cell_type": "code",
   "execution_count": 14,
   "id": "595f1342",
   "metadata": {},
   "outputs": [],
   "source": [
    "shareprice.loc['2022-1-6','當沖損益'] = 123"
   ]
  },
  {
   "cell_type": "code",
   "execution_count": 16,
   "id": "b1478778",
   "metadata": {
    "scrolled": true
   },
   "outputs": [
    {
     "data": {
      "text/html": [
       "<div>\n",
       "<style scoped>\n",
       "    .dataframe tbody tr th:only-of-type {\n",
       "        vertical-align: middle;\n",
       "    }\n",
       "\n",
       "    .dataframe tbody tr th {\n",
       "        vertical-align: top;\n",
       "    }\n",
       "\n",
       "    .dataframe thead th {\n",
       "        text-align: right;\n",
       "    }\n",
       "</style>\n",
       "<table border=\"1\" class=\"dataframe\">\n",
       "  <thead>\n",
       "    <tr style=\"text-align: right;\">\n",
       "      <th></th>\n",
       "      <th>開盤價</th>\n",
       "      <th>最高價</th>\n",
       "      <th>最低價</th>\n",
       "      <th>收盤價</th>\n",
       "      <th>當沖損益</th>\n",
       "      <th>當沖累計損益</th>\n",
       "    </tr>\n",
       "    <tr>\n",
       "      <th>日期</th>\n",
       "      <th></th>\n",
       "      <th></th>\n",
       "      <th></th>\n",
       "      <th></th>\n",
       "      <th></th>\n",
       "      <th></th>\n",
       "    </tr>\n",
       "  </thead>\n",
       "  <tbody>\n",
       "    <tr>\n",
       "      <th>2022-01-03</th>\n",
       "      <td>619.0</td>\n",
       "      <td>632.0</td>\n",
       "      <td>618.0</td>\n",
       "      <td>631.0</td>\n",
       "      <td>12.0</td>\n",
       "      <td>12.0</td>\n",
       "    </tr>\n",
       "    <tr>\n",
       "      <th>2022-01-04</th>\n",
       "      <td>645.0</td>\n",
       "      <td>656.0</td>\n",
       "      <td>644.0</td>\n",
       "      <td>656.0</td>\n",
       "      <td>11.0</td>\n",
       "      <td>23.0</td>\n",
       "    </tr>\n",
       "    <tr>\n",
       "      <th>2022-01-05</th>\n",
       "      <td>669.0</td>\n",
       "      <td>669.0</td>\n",
       "      <td>646.0</td>\n",
       "      <td>650.0</td>\n",
       "      <td>-19.0</td>\n",
       "      <td>4.0</td>\n",
       "    </tr>\n",
       "    <tr>\n",
       "      <th>2022-01-06</th>\n",
       "      <td>638.0</td>\n",
       "      <td>646.0</td>\n",
       "      <td>636.0</td>\n",
       "      <td>644.0</td>\n",
       "      <td>123.0</td>\n",
       "      <td>10.0</td>\n",
       "    </tr>\n",
       "    <tr>\n",
       "      <th>2022-01-07</th>\n",
       "      <td>643.0</td>\n",
       "      <td>646.0</td>\n",
       "      <td>632.0</td>\n",
       "      <td>634.0</td>\n",
       "      <td>-9.0</td>\n",
       "      <td>1.0</td>\n",
       "    </tr>\n",
       "    <tr>\n",
       "      <th>...</th>\n",
       "      <td>...</td>\n",
       "      <td>...</td>\n",
       "      <td>...</td>\n",
       "      <td>...</td>\n",
       "      <td>...</td>\n",
       "      <td>...</td>\n",
       "    </tr>\n",
       "    <tr>\n",
       "      <th>2022-09-28</th>\n",
       "      <td>447.0</td>\n",
       "      <td>449.0</td>\n",
       "      <td>438.0</td>\n",
       "      <td>438.0</td>\n",
       "      <td>-9.0</td>\n",
       "      <td>-18.5</td>\n",
       "    </tr>\n",
       "    <tr>\n",
       "      <th>2022-09-29</th>\n",
       "      <td>443.0</td>\n",
       "      <td>443.5</td>\n",
       "      <td>432.0</td>\n",
       "      <td>435.0</td>\n",
       "      <td>-8.0</td>\n",
       "      <td>-26.5</td>\n",
       "    </tr>\n",
       "    <tr>\n",
       "      <th>2022-09-30</th>\n",
       "      <td>424.5</td>\n",
       "      <td>427.5</td>\n",
       "      <td>422.0</td>\n",
       "      <td>422.0</td>\n",
       "      <td>-2.5</td>\n",
       "      <td>-29.0</td>\n",
       "    </tr>\n",
       "    <tr>\n",
       "      <th>2022-10-03</th>\n",
       "      <td>418.5</td>\n",
       "      <td>424.5</td>\n",
       "      <td>416.5</td>\n",
       "      <td>417.0</td>\n",
       "      <td>-1.5</td>\n",
       "      <td>-30.5</td>\n",
       "    </tr>\n",
       "    <tr>\n",
       "      <th>2022-10-04</th>\n",
       "      <td>429.5</td>\n",
       "      <td>432.0</td>\n",
       "      <td>427.0</td>\n",
       "      <td>429.0</td>\n",
       "      <td>-0.5</td>\n",
       "      <td>-31.0</td>\n",
       "    </tr>\n",
       "  </tbody>\n",
       "</table>\n",
       "<p>184 rows × 6 columns</p>\n",
       "</div>"
      ],
      "text/plain": [
       "              開盤價    最高價    最低價    收盤價   當沖損益  當沖累計損益\n",
       "日期                                                   \n",
       "2022-01-03  619.0  632.0  618.0  631.0   12.0    12.0\n",
       "2022-01-04  645.0  656.0  644.0  656.0   11.0    23.0\n",
       "2022-01-05  669.0  669.0  646.0  650.0  -19.0     4.0\n",
       "2022-01-06  638.0  646.0  636.0  644.0  123.0    10.0\n",
       "2022-01-07  643.0  646.0  632.0  634.0   -9.0     1.0\n",
       "...           ...    ...    ...    ...    ...     ...\n",
       "2022-09-28  447.0  449.0  438.0  438.0   -9.0   -18.5\n",
       "2022-09-29  443.0  443.5  432.0  435.0   -8.0   -26.5\n",
       "2022-09-30  424.5  427.5  422.0  422.0   -2.5   -29.0\n",
       "2022-10-03  418.5  424.5  416.5  417.0   -1.5   -30.5\n",
       "2022-10-04  429.5  432.0  427.0  429.0   -0.5   -31.0\n",
       "\n",
       "[184 rows x 6 columns]"
      ]
     },
     "execution_count": 16,
     "metadata": {},
     "output_type": "execute_result"
    }
   ],
   "source": [
    "shareprice"
   ]
  },
  {
   "cell_type": "code",
   "execution_count": 17,
   "id": "b409e17f",
   "metadata": {},
   "outputs": [],
   "source": [
    "shareprice = shareprice.drop(columns=['最高價'])"
   ]
  },
  {
   "cell_type": "code",
   "execution_count": 18,
   "id": "4143b41e",
   "metadata": {},
   "outputs": [
    {
     "data": {
      "text/html": [
       "<div>\n",
       "<style scoped>\n",
       "    .dataframe tbody tr th:only-of-type {\n",
       "        vertical-align: middle;\n",
       "    }\n",
       "\n",
       "    .dataframe tbody tr th {\n",
       "        vertical-align: top;\n",
       "    }\n",
       "\n",
       "    .dataframe thead th {\n",
       "        text-align: right;\n",
       "    }\n",
       "</style>\n",
       "<table border=\"1\" class=\"dataframe\">\n",
       "  <thead>\n",
       "    <tr style=\"text-align: right;\">\n",
       "      <th></th>\n",
       "      <th>開盤價</th>\n",
       "      <th>最低價</th>\n",
       "      <th>收盤價</th>\n",
       "      <th>當沖損益</th>\n",
       "      <th>當沖累計損益</th>\n",
       "    </tr>\n",
       "    <tr>\n",
       "      <th>日期</th>\n",
       "      <th></th>\n",
       "      <th></th>\n",
       "      <th></th>\n",
       "      <th></th>\n",
       "      <th></th>\n",
       "    </tr>\n",
       "  </thead>\n",
       "  <tbody>\n",
       "    <tr>\n",
       "      <th>2022-01-03</th>\n",
       "      <td>619.0</td>\n",
       "      <td>618.0</td>\n",
       "      <td>631.0</td>\n",
       "      <td>12.0</td>\n",
       "      <td>12.0</td>\n",
       "    </tr>\n",
       "    <tr>\n",
       "      <th>2022-01-04</th>\n",
       "      <td>645.0</td>\n",
       "      <td>644.0</td>\n",
       "      <td>656.0</td>\n",
       "      <td>11.0</td>\n",
       "      <td>23.0</td>\n",
       "    </tr>\n",
       "    <tr>\n",
       "      <th>2022-01-05</th>\n",
       "      <td>669.0</td>\n",
       "      <td>646.0</td>\n",
       "      <td>650.0</td>\n",
       "      <td>-19.0</td>\n",
       "      <td>4.0</td>\n",
       "    </tr>\n",
       "    <tr>\n",
       "      <th>2022-01-06</th>\n",
       "      <td>638.0</td>\n",
       "      <td>636.0</td>\n",
       "      <td>644.0</td>\n",
       "      <td>123.0</td>\n",
       "      <td>10.0</td>\n",
       "    </tr>\n",
       "    <tr>\n",
       "      <th>2022-01-07</th>\n",
       "      <td>643.0</td>\n",
       "      <td>632.0</td>\n",
       "      <td>634.0</td>\n",
       "      <td>-9.0</td>\n",
       "      <td>1.0</td>\n",
       "    </tr>\n",
       "    <tr>\n",
       "      <th>...</th>\n",
       "      <td>...</td>\n",
       "      <td>...</td>\n",
       "      <td>...</td>\n",
       "      <td>...</td>\n",
       "      <td>...</td>\n",
       "    </tr>\n",
       "    <tr>\n",
       "      <th>2022-09-28</th>\n",
       "      <td>447.0</td>\n",
       "      <td>438.0</td>\n",
       "      <td>438.0</td>\n",
       "      <td>-9.0</td>\n",
       "      <td>-18.5</td>\n",
       "    </tr>\n",
       "    <tr>\n",
       "      <th>2022-09-29</th>\n",
       "      <td>443.0</td>\n",
       "      <td>432.0</td>\n",
       "      <td>435.0</td>\n",
       "      <td>-8.0</td>\n",
       "      <td>-26.5</td>\n",
       "    </tr>\n",
       "    <tr>\n",
       "      <th>2022-09-30</th>\n",
       "      <td>424.5</td>\n",
       "      <td>422.0</td>\n",
       "      <td>422.0</td>\n",
       "      <td>-2.5</td>\n",
       "      <td>-29.0</td>\n",
       "    </tr>\n",
       "    <tr>\n",
       "      <th>2022-10-03</th>\n",
       "      <td>418.5</td>\n",
       "      <td>416.5</td>\n",
       "      <td>417.0</td>\n",
       "      <td>-1.5</td>\n",
       "      <td>-30.5</td>\n",
       "    </tr>\n",
       "    <tr>\n",
       "      <th>2022-10-04</th>\n",
       "      <td>429.5</td>\n",
       "      <td>427.0</td>\n",
       "      <td>429.0</td>\n",
       "      <td>-0.5</td>\n",
       "      <td>-31.0</td>\n",
       "    </tr>\n",
       "  </tbody>\n",
       "</table>\n",
       "<p>184 rows × 5 columns</p>\n",
       "</div>"
      ],
      "text/plain": [
       "              開盤價    最低價    收盤價   當沖損益  當沖累計損益\n",
       "日期                                            \n",
       "2022-01-03  619.0  618.0  631.0   12.0    12.0\n",
       "2022-01-04  645.0  644.0  656.0   11.0    23.0\n",
       "2022-01-05  669.0  646.0  650.0  -19.0     4.0\n",
       "2022-01-06  638.0  636.0  644.0  123.0    10.0\n",
       "2022-01-07  643.0  632.0  634.0   -9.0     1.0\n",
       "...           ...    ...    ...    ...     ...\n",
       "2022-09-28  447.0  438.0  438.0   -9.0   -18.5\n",
       "2022-09-29  443.0  432.0  435.0   -8.0   -26.5\n",
       "2022-09-30  424.5  422.0  422.0   -2.5   -29.0\n",
       "2022-10-03  418.5  416.5  417.0   -1.5   -30.5\n",
       "2022-10-04  429.5  427.0  429.0   -0.5   -31.0\n",
       "\n",
       "[184 rows x 5 columns]"
      ]
     },
     "execution_count": 18,
     "metadata": {},
     "output_type": "execute_result"
    }
   ],
   "source": [
    "shareprice"
   ]
  },
  {
   "cell_type": "code",
   "execution_count": 19,
   "id": "c9f449f6",
   "metadata": {},
   "outputs": [],
   "source": [
    "shareprice = shareprice.drop(index=[shareprice.index[0]])"
   ]
  },
  {
   "cell_type": "code",
   "execution_count": 20,
   "id": "83b4c6fb",
   "metadata": {},
   "outputs": [
    {
     "data": {
      "text/html": [
       "<div>\n",
       "<style scoped>\n",
       "    .dataframe tbody tr th:only-of-type {\n",
       "        vertical-align: middle;\n",
       "    }\n",
       "\n",
       "    .dataframe tbody tr th {\n",
       "        vertical-align: top;\n",
       "    }\n",
       "\n",
       "    .dataframe thead th {\n",
       "        text-align: right;\n",
       "    }\n",
       "</style>\n",
       "<table border=\"1\" class=\"dataframe\">\n",
       "  <thead>\n",
       "    <tr style=\"text-align: right;\">\n",
       "      <th></th>\n",
       "      <th>開盤價</th>\n",
       "      <th>最低價</th>\n",
       "      <th>收盤價</th>\n",
       "      <th>當沖損益</th>\n",
       "      <th>當沖累計損益</th>\n",
       "    </tr>\n",
       "    <tr>\n",
       "      <th>日期</th>\n",
       "      <th></th>\n",
       "      <th></th>\n",
       "      <th></th>\n",
       "      <th></th>\n",
       "      <th></th>\n",
       "    </tr>\n",
       "  </thead>\n",
       "  <tbody>\n",
       "    <tr>\n",
       "      <th>2022-01-04</th>\n",
       "      <td>645.0</td>\n",
       "      <td>644.0</td>\n",
       "      <td>656.0</td>\n",
       "      <td>11.0</td>\n",
       "      <td>23.0</td>\n",
       "    </tr>\n",
       "    <tr>\n",
       "      <th>2022-01-05</th>\n",
       "      <td>669.0</td>\n",
       "      <td>646.0</td>\n",
       "      <td>650.0</td>\n",
       "      <td>-19.0</td>\n",
       "      <td>4.0</td>\n",
       "    </tr>\n",
       "    <tr>\n",
       "      <th>2022-01-06</th>\n",
       "      <td>638.0</td>\n",
       "      <td>636.0</td>\n",
       "      <td>644.0</td>\n",
       "      <td>123.0</td>\n",
       "      <td>10.0</td>\n",
       "    </tr>\n",
       "    <tr>\n",
       "      <th>2022-01-07</th>\n",
       "      <td>643.0</td>\n",
       "      <td>632.0</td>\n",
       "      <td>634.0</td>\n",
       "      <td>-9.0</td>\n",
       "      <td>1.0</td>\n",
       "    </tr>\n",
       "    <tr>\n",
       "      <th>2022-01-10</th>\n",
       "      <td>628.0</td>\n",
       "      <td>627.0</td>\n",
       "      <td>643.0</td>\n",
       "      <td>15.0</td>\n",
       "      <td>16.0</td>\n",
       "    </tr>\n",
       "    <tr>\n",
       "      <th>...</th>\n",
       "      <td>...</td>\n",
       "      <td>...</td>\n",
       "      <td>...</td>\n",
       "      <td>...</td>\n",
       "      <td>...</td>\n",
       "    </tr>\n",
       "    <tr>\n",
       "      <th>2022-09-28</th>\n",
       "      <td>447.0</td>\n",
       "      <td>438.0</td>\n",
       "      <td>438.0</td>\n",
       "      <td>-9.0</td>\n",
       "      <td>-18.5</td>\n",
       "    </tr>\n",
       "    <tr>\n",
       "      <th>2022-09-29</th>\n",
       "      <td>443.0</td>\n",
       "      <td>432.0</td>\n",
       "      <td>435.0</td>\n",
       "      <td>-8.0</td>\n",
       "      <td>-26.5</td>\n",
       "    </tr>\n",
       "    <tr>\n",
       "      <th>2022-09-30</th>\n",
       "      <td>424.5</td>\n",
       "      <td>422.0</td>\n",
       "      <td>422.0</td>\n",
       "      <td>-2.5</td>\n",
       "      <td>-29.0</td>\n",
       "    </tr>\n",
       "    <tr>\n",
       "      <th>2022-10-03</th>\n",
       "      <td>418.5</td>\n",
       "      <td>416.5</td>\n",
       "      <td>417.0</td>\n",
       "      <td>-1.5</td>\n",
       "      <td>-30.5</td>\n",
       "    </tr>\n",
       "    <tr>\n",
       "      <th>2022-10-04</th>\n",
       "      <td>429.5</td>\n",
       "      <td>427.0</td>\n",
       "      <td>429.0</td>\n",
       "      <td>-0.5</td>\n",
       "      <td>-31.0</td>\n",
       "    </tr>\n",
       "  </tbody>\n",
       "</table>\n",
       "<p>183 rows × 5 columns</p>\n",
       "</div>"
      ],
      "text/plain": [
       "              開盤價    最低價    收盤價   當沖損益  當沖累計損益\n",
       "日期                                            \n",
       "2022-01-04  645.0  644.0  656.0   11.0    23.0\n",
       "2022-01-05  669.0  646.0  650.0  -19.0     4.0\n",
       "2022-01-06  638.0  636.0  644.0  123.0    10.0\n",
       "2022-01-07  643.0  632.0  634.0   -9.0     1.0\n",
       "2022-01-10  628.0  627.0  643.0   15.0    16.0\n",
       "...           ...    ...    ...    ...     ...\n",
       "2022-09-28  447.0  438.0  438.0   -9.0   -18.5\n",
       "2022-09-29  443.0  432.0  435.0   -8.0   -26.5\n",
       "2022-09-30  424.5  422.0  422.0   -2.5   -29.0\n",
       "2022-10-03  418.5  416.5  417.0   -1.5   -30.5\n",
       "2022-10-04  429.5  427.0  429.0   -0.5   -31.0\n",
       "\n",
       "[183 rows x 5 columns]"
      ]
     },
     "execution_count": 20,
     "metadata": {},
     "output_type": "execute_result"
    }
   ],
   "source": [
    "shareprice"
   ]
  },
  {
   "cell_type": "code",
   "execution_count": 21,
   "id": "07db853d",
   "metadata": {},
   "outputs": [],
   "source": [
    "shareprice['後減前'] = shareprice['收盤價'].diff()"
   ]
  },
  {
   "cell_type": "code",
   "execution_count": 22,
   "id": "44606dca",
   "metadata": {},
   "outputs": [
    {
     "data": {
      "text/html": [
       "<div>\n",
       "<style scoped>\n",
       "    .dataframe tbody tr th:only-of-type {\n",
       "        vertical-align: middle;\n",
       "    }\n",
       "\n",
       "    .dataframe tbody tr th {\n",
       "        vertical-align: top;\n",
       "    }\n",
       "\n",
       "    .dataframe thead th {\n",
       "        text-align: right;\n",
       "    }\n",
       "</style>\n",
       "<table border=\"1\" class=\"dataframe\">\n",
       "  <thead>\n",
       "    <tr style=\"text-align: right;\">\n",
       "      <th></th>\n",
       "      <th>開盤價</th>\n",
       "      <th>最低價</th>\n",
       "      <th>收盤價</th>\n",
       "      <th>當沖損益</th>\n",
       "      <th>當沖累計損益</th>\n",
       "      <th>後減前</th>\n",
       "    </tr>\n",
       "    <tr>\n",
       "      <th>日期</th>\n",
       "      <th></th>\n",
       "      <th></th>\n",
       "      <th></th>\n",
       "      <th></th>\n",
       "      <th></th>\n",
       "      <th></th>\n",
       "    </tr>\n",
       "  </thead>\n",
       "  <tbody>\n",
       "    <tr>\n",
       "      <th>2022-01-04</th>\n",
       "      <td>645.0</td>\n",
       "      <td>644.0</td>\n",
       "      <td>656.0</td>\n",
       "      <td>11.0</td>\n",
       "      <td>23.0</td>\n",
       "      <td>NaN</td>\n",
       "    </tr>\n",
       "    <tr>\n",
       "      <th>2022-01-05</th>\n",
       "      <td>669.0</td>\n",
       "      <td>646.0</td>\n",
       "      <td>650.0</td>\n",
       "      <td>-19.0</td>\n",
       "      <td>4.0</td>\n",
       "      <td>-6.0</td>\n",
       "    </tr>\n",
       "    <tr>\n",
       "      <th>2022-01-06</th>\n",
       "      <td>638.0</td>\n",
       "      <td>636.0</td>\n",
       "      <td>644.0</td>\n",
       "      <td>123.0</td>\n",
       "      <td>10.0</td>\n",
       "      <td>-6.0</td>\n",
       "    </tr>\n",
       "    <tr>\n",
       "      <th>2022-01-07</th>\n",
       "      <td>643.0</td>\n",
       "      <td>632.0</td>\n",
       "      <td>634.0</td>\n",
       "      <td>-9.0</td>\n",
       "      <td>1.0</td>\n",
       "      <td>-10.0</td>\n",
       "    </tr>\n",
       "    <tr>\n",
       "      <th>2022-01-10</th>\n",
       "      <td>628.0</td>\n",
       "      <td>627.0</td>\n",
       "      <td>643.0</td>\n",
       "      <td>15.0</td>\n",
       "      <td>16.0</td>\n",
       "      <td>9.0</td>\n",
       "    </tr>\n",
       "    <tr>\n",
       "      <th>...</th>\n",
       "      <td>...</td>\n",
       "      <td>...</td>\n",
       "      <td>...</td>\n",
       "      <td>...</td>\n",
       "      <td>...</td>\n",
       "      <td>...</td>\n",
       "    </tr>\n",
       "    <tr>\n",
       "      <th>2022-09-28</th>\n",
       "      <td>447.0</td>\n",
       "      <td>438.0</td>\n",
       "      <td>438.0</td>\n",
       "      <td>-9.0</td>\n",
       "      <td>-18.5</td>\n",
       "      <td>-10.0</td>\n",
       "    </tr>\n",
       "    <tr>\n",
       "      <th>2022-09-29</th>\n",
       "      <td>443.0</td>\n",
       "      <td>432.0</td>\n",
       "      <td>435.0</td>\n",
       "      <td>-8.0</td>\n",
       "      <td>-26.5</td>\n",
       "      <td>-3.0</td>\n",
       "    </tr>\n",
       "    <tr>\n",
       "      <th>2022-09-30</th>\n",
       "      <td>424.5</td>\n",
       "      <td>422.0</td>\n",
       "      <td>422.0</td>\n",
       "      <td>-2.5</td>\n",
       "      <td>-29.0</td>\n",
       "      <td>-13.0</td>\n",
       "    </tr>\n",
       "    <tr>\n",
       "      <th>2022-10-03</th>\n",
       "      <td>418.5</td>\n",
       "      <td>416.5</td>\n",
       "      <td>417.0</td>\n",
       "      <td>-1.5</td>\n",
       "      <td>-30.5</td>\n",
       "      <td>-5.0</td>\n",
       "    </tr>\n",
       "    <tr>\n",
       "      <th>2022-10-04</th>\n",
       "      <td>429.5</td>\n",
       "      <td>427.0</td>\n",
       "      <td>429.0</td>\n",
       "      <td>-0.5</td>\n",
       "      <td>-31.0</td>\n",
       "      <td>12.0</td>\n",
       "    </tr>\n",
       "  </tbody>\n",
       "</table>\n",
       "<p>183 rows × 6 columns</p>\n",
       "</div>"
      ],
      "text/plain": [
       "              開盤價    最低價    收盤價   當沖損益  當沖累計損益   後減前\n",
       "日期                                                  \n",
       "2022-01-04  645.0  644.0  656.0   11.0    23.0   NaN\n",
       "2022-01-05  669.0  646.0  650.0  -19.0     4.0  -6.0\n",
       "2022-01-06  638.0  636.0  644.0  123.0    10.0  -6.0\n",
       "2022-01-07  643.0  632.0  634.0   -9.0     1.0 -10.0\n",
       "2022-01-10  628.0  627.0  643.0   15.0    16.0   9.0\n",
       "...           ...    ...    ...    ...     ...   ...\n",
       "2022-09-28  447.0  438.0  438.0   -9.0   -18.5 -10.0\n",
       "2022-09-29  443.0  432.0  435.0   -8.0   -26.5  -3.0\n",
       "2022-09-30  424.5  422.0  422.0   -2.5   -29.0 -13.0\n",
       "2022-10-03  418.5  416.5  417.0   -1.5   -30.5  -5.0\n",
       "2022-10-04  429.5  427.0  429.0   -0.5   -31.0  12.0\n",
       "\n",
       "[183 rows x 6 columns]"
      ]
     },
     "execution_count": 22,
     "metadata": {},
     "output_type": "execute_result"
    }
   ],
   "source": [
    "shareprice"
   ]
  },
  {
   "cell_type": "code",
   "execution_count": 25,
   "id": "25d9b87d",
   "metadata": {},
   "outputs": [
    {
     "data": {
      "text/plain": [
       "<AxesSubplot:xlabel='日期'>"
      ]
     },
     "execution_count": 25,
     "metadata": {},
     "output_type": "execute_result"
    },
    {
     "name": "stderr",
     "output_type": "stream",
     "text": [
      "C:\\ProgramData\\Anaconda3\\lib\\site-packages\\matplotlib\\backends\\backend_agg.py:238: RuntimeWarning: Glyph 26085 missing from current font.\n",
      "  font.set_text(s, 0.0, flags=flags)\n",
      "C:\\ProgramData\\Anaconda3\\lib\\site-packages\\matplotlib\\backends\\backend_agg.py:238: RuntimeWarning: Glyph 26399 missing from current font.\n",
      "  font.set_text(s, 0.0, flags=flags)\n",
      "C:\\ProgramData\\Anaconda3\\lib\\site-packages\\matplotlib\\backends\\backend_agg.py:201: RuntimeWarning: Glyph 26085 missing from current font.\n",
      "  font.set_text(s, 0, flags=flags)\n",
      "C:\\ProgramData\\Anaconda3\\lib\\site-packages\\matplotlib\\backends\\backend_agg.py:201: RuntimeWarning: Glyph 26399 missing from current font.\n",
      "  font.set_text(s, 0, flags=flags)\n"
     ]
    },
    {
     "data": {
      "image/png": "[encoded data removed]",
      "text/plain": [
       "<Figure size 432x288 with 1 Axes>"
      ]
     },
     "metadata": {
      "needs_background": "light"
     },
     "output_type": "display_data"
    }
   ],
   "source": [
    "shareprice['當沖累計損益'].plot()"
   ]
  },
  {
   "cell_type": "code",
   "execution_count": 26,
   "id": "7a16dcf7",
   "metadata": {},
   "outputs": [
    {
     "data": {
      "text/plain": [
       "<AxesSubplot:xlabel='日期'>"
      ]
     },
     "execution_count": 26,
     "metadata": {},
     "output_type": "execute_result"
    },
    {
     "name": "stderr",
     "output_type": "stream",
     "text": [
      "C:\\ProgramData\\Anaconda3\\lib\\site-packages\\matplotlib\\backends\\backend_agg.py:238: RuntimeWarning: Glyph 26085 missing from current font.\n",
      "  font.set_text(s, 0.0, flags=flags)\n",
      "C:\\ProgramData\\Anaconda3\\lib\\site-packages\\matplotlib\\backends\\backend_agg.py:238: RuntimeWarning: Glyph 26399 missing from current font.\n",
      "  font.set_text(s, 0.0, flags=flags)\n",
      "C:\\ProgramData\\Anaconda3\\lib\\site-packages\\matplotlib\\backends\\backend_agg.py:201: RuntimeWarning: Glyph 26085 missing from current font.\n",
      "  font.set_text(s, 0, flags=flags)\n",
      "C:\\ProgramData\\Anaconda3\\lib\\site-packages\\matplotlib\\backends\\backend_agg.py:201: RuntimeWarning: Glyph 26399 missing from current font.\n",
      "  font.set_text(s, 0, flags=flags)\n"
     ]
    },
    {
     "data": {
      "image/png": "[encoded data removed]",
      "text/plain": [
       "<Figure size 1080x576 with 1 Axes>"
      ]
     },
     "metadata": {
      "needs_background": "light"
     },
     "output_type": "display_data"
    }
   ],
   "source": [
    "shareprice['收盤價'].pct_change().plot(kind='bar',figsize=[15,8])"
   ]
  },
  {
   "cell_type": "code",
   "execution_count": null,
   "id": "00d639a5",
   "metadata": {},
   "outputs": [],
   "source": []
  }
 ],
 "metadata": {
  "kernelspec": {
   "display_name": "Python 3",
   "language": "python",
   "name": "python3"
  },
  "language_info": {
   "codemirror_mode": {
    "name": "ipython",
    "version": 3
   },
   "file_extension": ".py",
   "mimetype": "text/x-python",
   "name": "python",
   "nbconvert_exporter": "python",
   "pygments_lexer": "ipython3",
   "version": "3.8.8"
  }
 },
 "nbformat": 4,
 "nbformat_minor": 5
}
