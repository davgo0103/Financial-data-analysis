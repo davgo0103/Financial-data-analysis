{
 "cells": [
  {
   "cell_type": "code",
   "execution_count": 24,
   "metadata": {},
   "outputs": [],
   "source": [
    "#!pip install plotly\n",
    "#!pip install pandas\n",
    "#!pip install kaleido"
   ]
  },
  {
   "cell_type": "code",
   "execution_count": 37,
   "metadata": {},
   "outputs": [
    {
     "name": "stderr",
     "output_type": "stream",
     "text": [
      "c:\\Users\\stust\\anaconda3\\lib\\site-packages\\plotly\\express\\_core.py:1637: FutureWarning:\n",
      "\n",
      "The frame.append method is deprecated and will be removed from pandas in a future version. Use pandas.concat instead.\n",
      "\n"
     ]
    }
   ],
   "source": [
    "import plotly.express as px\n",
    "import pandas as pd\n",
    "import plotly.io as pio\n",
    "import requests\n",
    "import datetime\n",
    "from bs4 import BeautifulSoup\n",
    "\n",
    "datetime_format = \"20221130\" #留空使用預設日期 格式:yyyymmdd\n",
    "\n",
    "\n",
    "if(datetime_format == \"\" and datetime.datetime.now().strftime(\"%H\") > 13):\n",
    "    new_dt = datetime.date.today()\n",
    "    datetime_format = new_dt.strftime(\"%Y%m%d\")\n",
    "else:\n",
    "    time_del = datetime.timedelta(days=1) \n",
    "    new_dt = datetime.date.today() - time_del    \n",
    "\n",
    "\n",
    "if(new_dt.strftime(\"%w\") !=6 and new_dt.strftime(\"%w\") != 7):\n",
    "    main()\n",
    "\n",
    "def main():\n",
    "\n",
    "    \n",
    "\n",
    "\n",
    "\n",
    "    \n",
    "\n",
    "\n",
    "    url = \"https://www.twse.com.tw/zh/exchangeReport/MI_INDEX\"\n",
    "    par = {\n",
    "        \"response\": \"html\",\n",
    "        \"date\": datetime_format,\n",
    "        \"type\": \"ALLBUT0999\"\n",
    "    }\n",
    "\n",
    "    HTML_respinse = requests.post(url, par)\n",
    "    HTML = BeautifulSoup(HTML_respinse.text)\n",
    "    #price_HTML = HTML.find(\"table\")\n",
    "\n",
    "    for num in range(0,3):\n",
    "        thead_list = []\n",
    "        tbody_list = []\n",
    "        price_HTML = HTML.find_all(\"table\")[num]\n",
    "        title = price_HTML.find(\"th\").text\n",
    "        thead_HTML = price_HTML.find(\"thead\")\n",
    "        tbody_HTML = price_HTML.find(\"tbody\")\n",
    "\n",
    "        tr = thead_HTML.find_all(\"tr\")[1]\n",
    "        for td in tr.find_all(\"td\"):\n",
    "            thead_list.append(td.text)\n",
    "\n",
    "        tbody_all_row = tbody_HTML.find_all(\"tr\")\n",
    "\n",
    "        for i in tbody_all_row:\n",
    "            row_list = []\n",
    "            for td in i.find_all(\"td\"):\n",
    "                row_list.append(td.text)\n",
    "            tbody_list.append(row_list)\n",
    "        \n",
    "        shareprice_df = pd.DataFrame(data = tbody_list,columns=thead_list)\n",
    "        for i in shareprice_df:\n",
    "            shareprice_df['特殊處理註記'] = title\n",
    "\n",
    "        shareprice_df.to_excel(f\"{num}.xlsx\")\n",
    "\n",
    "    df0 = pd.read_excel('0.xlsx')\n",
    "    df1 = pd.read_excel('1.xlsx')\n",
    "    df2 = pd.read_excel('2.xlsx')\n",
    "    #df3 = pd.read_excel('3.xlsx')\n",
    "    #df4 = pd.read_excel('4.xlsx')\n",
    "    #df5 = pd.read_excel('5.xlsx')\n",
    "\n",
    "\n",
    "    df = pd.concat([df0,df1,df2], ignore_index=False)\n",
    "    df.to_excel('merge.xlsx')\n",
    "\n",
    "\n",
    "\n",
    "\n",
    "    df = pd.read_excel(\"./merge.xlsx\")\n",
    "\n",
    "    #開始繪圖\n",
    "    fig = px.treemap(df, path=['指數'], values='漲跌百分比(%)',color_continuous_scale='Geyser',color='漲跌百分比(%)',height = 1000,width = 1000,)\n",
    "\n",
    "    fig.update_traces(textposition='middle center',\n",
    "                            textfont_size=24,\n",
    "                            textinfo='label+text+value+percent parent'\n",
    "                            )\n",
    "    fig.data[0].texttemplate = \"%{label}<br>%{value}%\"\n",
    "    pio.write_image(fig, 'img.png')\n",
    "\n",
    "\n",
    "\n",
    "    #透過 LINE 發送圖片\n",
    "    token = '42CbyNEG6cR7rCAIVnZao0TxTNNsp1Ad54PWAmVBReO'\n",
    "\n",
    "    message = new_dt.strftime(\"%m-%d\") + \" 指數漲跌\"\n",
    "    headers = { \"Authorization\": \"Bearer \" + token }\n",
    "    data = { 'message': message }\n",
    "\n",
    "    image = open('img.png', 'rb')\n",
    "    files = { 'imageFile': image }\n",
    "\n",
    "    #requests.post(\"https://notify-api.line.me/api/notify\",headers = headers, data = data, files = files)\n",
    "\n",
    "\n",
    "\n"
   ]
  },
  {
   "cell_type": "code",
   "execution_count": 35,
   "metadata": {},
   "outputs": [
    {
     "data": {
      "text/plain": [
       "'4'"
      ]
     },
     "execution_count": 35,
     "metadata": {},
     "output_type": "execute_result"
    }
   ],
   "source": [
    "new_dt.strftime(\"%w\")"
   ]
  },
  {
   "cell_type": "code",
   "execution_count": 27,
   "metadata": {},
   "outputs": [
    {
     "data": {
      "text/plain": [
       "'20221208'"
      ]
     },
     "execution_count": 27,
     "metadata": {},
     "output_type": "execute_result"
    }
   ],
   "source": [
    "datetime_format"
   ]
  },
  {
   "cell_type": "code",
   "execution_count": 31,
   "metadata": {},
   "outputs": [
    {
     "data": {
      "text/plain": [
       "datetime.date(2022, 12, 8)"
      ]
     },
     "execution_count": 31,
     "metadata": {},
     "output_type": "execute_result"
    }
   ],
   "source": [
    "new_dt"
   ]
  },
  {
   "cell_type": "code",
   "execution_count": 36,
   "metadata": {},
   "outputs": [
    {
     "data": {
      "text/plain": [
       "'19'"
      ]
     },
     "execution_count": 36,
     "metadata": {},
     "output_type": "execute_result"
    }
   ],
   "source": []
  },
  {
   "cell_type": "code",
   "execution_count": null,
   "metadata": {},
   "outputs": [],
   "source": []
  }
 ],
 "metadata": {
  "kernelspec": {
   "display_name": "Python 3",
   "language": "python",
   "name": "python3"
  },
  "language_info": {
   "codemirror_mode": {
    "name": "ipython",
    "version": 3
   },
   "file_extension": ".py",
   "mimetype": "text/x-python",
   "name": "python",
   "nbconvert_exporter": "python",
   "pygments_lexer": "ipython3",
   "version": "3.9.12"
  },
  "orig_nbformat": 4,
  "vscode": {
   "interpreter": {
    "hash": "34d1a15aca1f08ae77fbfabbdeaa9776286e391a9ee87ca3cd8f0f3d861ffca8"
   }
  }
 },
 "nbformat": 4,
 "nbformat_minor": 2
}
