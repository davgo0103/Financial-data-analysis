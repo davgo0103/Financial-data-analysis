{
 "cells": [
  {
   "cell_type": "code",
   "execution_count": 1,
   "id": "09282f09",
   "metadata": {},
   "outputs": [],
   "source": [
    "import requests\n",
    "import pandas\n",
    "import datetime\n",
    "from bs4 import BeautifulSoup"
   ]
  },
  {
   "cell_type": "code",
   "execution_count": 3,
   "id": "73e8f2b4",
   "metadata": {},
   "outputs": [],
   "source": [
    "datetime_format = \"\" #沒填日期預設讀取昨日的資料 格式:yyyymmdd\n",
    "thead_list = []\n",
    "tbody_list = []\n",
    "\n",
    "time_del = datetime.timedelta(days=1) \n",
    "new_dt = datetime.date.today() - time_del\n",
    "if(datetime_format == \"\"):\n",
    "    datetime_format = new_dt.strftime(\"%Y%m%d\")\n",
    "\n",
    "\n",
    "url = \"https://www.twse.com.tw/zh/exchangeReport/MI_INDEX\"\n",
    "par = {\n",
    "    \"response\": \"html\",\n",
    "    \"date\": datetime_format,\n",
    "    \"type\": \"24\"\n",
    "}\n",
    "\n",
    "HTML_respinse = requests.post(url, par)\n",
    "HTML = BeautifulSoup(HTML_respinse.text)\n",
    "title = HTML.find(\"th\").text\n",
    "price_HTML = HTML.find(\"table\")\n",
    "thead_HTML = price_HTML.find(\"thead\")\n",
    "tbody_HTML = price_HTML.find(\"tbody\")\n",
    "tr = thead_HTML.find_all(\"tr\")[2]\n",
    "for td in tr.find_all(\"td\"):\n",
    "    thead_list.append(td.text)\n",
    "\n",
    "tbody_all_row = tbody_HTML.find_all(\"tr\")\n",
    "\n",
    "for i in tbody_all_row:\n",
    "    row_list = []\n",
    "    for td in i.find_all(\"td\"):\n",
    "        row_list.append(td.text)\n",
    "    tbody_list.append(row_list)\n",
    "\n",
    "shareprice_df = pandas.DataFrame(data = tbody_list,columns=thead_list)\n",
    "shareprice_df.to_excel(f\"{title}.xlsx\")"
   ]
  },
  {
   "cell_type": "code",
   "execution_count": null,
   "id": "a6c90e7b",
   "metadata": {},
   "outputs": [],
   "source": []
  },
  {
   "cell_type": "code",
   "execution_count": null,
   "id": "371363a1",
   "metadata": {},
   "outputs": [],
   "source": []
  }
 ],
 "metadata": {
  "kernelspec": {
   "display_name": "Python 3",
   "language": "python",
   "name": "python3"
  },
  "language_info": {
   "codemirror_mode": {
    "name": "ipython",
    "version": 3
   },
   "file_extension": ".py",
   "mimetype": "text/x-python",
   "name": "python",
   "nbconvert_exporter": "python",
   "pygments_lexer": "ipython3",
   "version": "3.8.8"
  }
 },
 "nbformat": 4,
 "nbformat_minor": 5
}
