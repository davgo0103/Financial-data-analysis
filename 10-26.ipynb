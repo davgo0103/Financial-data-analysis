{
 "cells": [
  {
   "cell_type": "code",
   "execution_count": 1,
   "id": "b6643c78",
   "metadata": {},
   "outputs": [
    {
     "name": "stdout",
     "output_type": "stream",
     "text": [
      "Requirement already satisfied: gspread in c:\\programdata\\anaconda3\\lib\\site-packages (5.6.2)\n",
      "Requirement already satisfied: oauth2client in c:\\programdata\\anaconda3\\lib\\site-packages (4.1.3)\n",
      "Requirement already satisfied: google-auth-oauthlib>=0.4.1 in c:\\programdata\\anaconda3\\lib\\site-packages (from gspread) (0.7.0)\n",
      "Requirement already satisfied: google-auth>=1.12.0 in c:\\programdata\\anaconda3\\lib\\site-packages (from gspread) (2.13.0)\n",
      "Requirement already satisfied: six>=1.9.0 in c:\\programdata\\anaconda3\\lib\\site-packages (from google-auth>=1.12.0->gspread) (1.15.0)\n",
      "Requirement already satisfied: cachetools<6.0,>=2.0.0 in c:\\programdata\\anaconda3\\lib\\site-packages (from google-auth>=1.12.0->gspread) (5.2.0)\n",
      "Requirement already satisfied: rsa<5,>=3.1.4 in c:\\programdata\\anaconda3\\lib\\site-packages (from google-auth>=1.12.0->gspread) (4.9)\n",
      "Requirement already satisfied: pyasn1-modules>=0.2.1 in c:\\programdata\\anaconda3\\lib\\site-packages (from google-auth>=1.12.0->gspread) (0.2.8)\n",
      "Requirement already satisfied: requests-oauthlib>=0.7.0 in c:\\programdata\\anaconda3\\lib\\site-packages (from google-auth-oauthlib>=0.4.1->gspread) (1.3.1)\n",
      "Requirement already satisfied: pyasn1<0.5.0,>=0.4.6 in c:\\programdata\\anaconda3\\lib\\site-packages (from pyasn1-modules>=0.2.1->google-auth>=1.12.0->gspread) (0.4.8)\n",
      "Requirement already satisfied: requests>=2.0.0 in c:\\programdata\\anaconda3\\lib\\site-packages (from requests-oauthlib>=0.7.0->google-auth-oauthlib>=0.4.1->gspread) (2.25.1)\n",
      "Requirement already satisfied: oauthlib>=3.0.0 in c:\\programdata\\anaconda3\\lib\\site-packages (from requests-oauthlib>=0.7.0->google-auth-oauthlib>=0.4.1->gspread) (3.2.2)\n",
      "Requirement already satisfied: chardet<5,>=3.0.2 in c:\\programdata\\anaconda3\\lib\\site-packages (from requests>=2.0.0->requests-oauthlib>=0.7.0->google-auth-oauthlib>=0.4.1->gspread) (4.0.0)\n",
      "Requirement already satisfied: certifi>=2017.4.17 in c:\\programdata\\anaconda3\\lib\\site-packages (from requests>=2.0.0->requests-oauthlib>=0.7.0->google-auth-oauthlib>=0.4.1->gspread) (2020.12.5)\n",
      "Requirement already satisfied: idna<3,>=2.5 in c:\\programdata\\anaconda3\\lib\\site-packages (from requests>=2.0.0->requests-oauthlib>=0.7.0->google-auth-oauthlib>=0.4.1->gspread) (2.10)\n",
      "Requirement already satisfied: urllib3<1.27,>=1.21.1 in c:\\programdata\\anaconda3\\lib\\site-packages (from requests>=2.0.0->requests-oauthlib>=0.7.0->google-auth-oauthlib>=0.4.1->gspread) (1.26.4)\n",
      "Requirement already satisfied: httplib2>=0.9.1 in c:\\programdata\\anaconda3\\lib\\site-packages (from oauth2client) (0.20.4)\n",
      "Requirement already satisfied: pyparsing!=3.0.0,!=3.0.1,!=3.0.2,!=3.0.3,<4,>=2.4.2 in c:\\programdata\\anaconda3\\lib\\site-packages (from httplib2>=0.9.1->oauth2client) (2.4.7)\n"
     ]
    }
   ],
   "source": [
    "! pip install gspread oauth2client"
   ]
  },
  {
   "cell_type": "code",
   "execution_count": 2,
   "id": "2056e879",
   "metadata": {},
   "outputs": [],
   "source": [
    "import gspread \n",
    "import pandas\n",
    "from oauth2client.service_account import ServiceAccountCredentials"
   ]
  },
  {
   "cell_type": "code",
   "execution_count": 3,
   "id": "b550123f",
   "metadata": {},
   "outputs": [],
   "source": [
    "auth_json = \"testgs.json\"\n",
    "gs_sope = [\"https://spreadsheets.google.com/feeds\"]"
   ]
  },
  {
   "cell_type": "code",
   "execution_count": 4,
   "id": "5fc7b384",
   "metadata": {},
   "outputs": [],
   "source": [
    "perm_set = ServiceAccountCredentials.from_json_keyfile_name(auth_json)"
   ]
  },
  {
   "cell_type": "code",
   "execution_count": 5,
   "id": "079a55e4",
   "metadata": {},
   "outputs": [],
   "source": [
    "gc = gspread.authorize(perm_set)"
   ]
  },
  {
   "cell_type": "code",
   "execution_count": 6,
   "id": "80745ab9",
   "metadata": {},
   "outputs": [],
   "source": [
    "tablename = '1O91FqX_t0jlIpiByqjYuk8OpzHXWB9NnaZsvjgDKCEk'"
   ]
  },
  {
   "cell_type": "code",
   "execution_count": 7,
   "id": "e276ff32",
   "metadata": {},
   "outputs": [],
   "source": [
    "gsheet = gc.open_by_key(tablename)"
   ]
  },
  {
   "cell_type": "code",
   "execution_count": 8,
   "id": "6e844b05",
   "metadata": {},
   "outputs": [
    {
     "data": {
      "text/plain": [
       "'金融大數據分析'"
      ]
     },
     "execution_count": 8,
     "metadata": {},
     "output_type": "execute_result"
    }
   ],
   "source": [
    "gsheet.title"
   ]
  },
  {
   "cell_type": "code",
   "execution_count": 9,
   "id": "ea139138",
   "metadata": {},
   "outputs": [],
   "source": [
    "sheet1 = gsheet.worksheet('工作表1')"
   ]
  },
  {
   "cell_type": "code",
   "execution_count": 10,
   "id": "6b092fb2",
   "metadata": {},
   "outputs": [
    {
     "data": {
      "text/plain": [
       "{'spreadsheetId': '1O91FqX_t0jlIpiByqjYuk8OpzHXWB9NnaZsvjgDKCEk',\n",
       " 'updatedRange': \"'工作表1'!A2\",\n",
       " 'updatedRows': 1,\n",
       " 'updatedColumns': 1,\n",
       " 'updatedCells': 1}"
      ]
     },
     "execution_count": 10,
     "metadata": {},
     "output_type": "execute_result"
    }
   ],
   "source": [
    "sheet1.update_acell('A2',123)"
   ]
  },
  {
   "cell_type": "code",
   "execution_count": 11,
   "id": "c96301ab",
   "metadata": {},
   "outputs": [
    {
     "data": {
      "text/plain": [
       "{'spreadsheetId': '1O91FqX_t0jlIpiByqjYuk8OpzHXWB9NnaZsvjgDKCEk',\n",
       " 'updates': {'spreadsheetId': '1O91FqX_t0jlIpiByqjYuk8OpzHXWB9NnaZsvjgDKCEk',\n",
       "  'updatedRange': \"'工作表1'!A1:D1\",\n",
       "  'updatedRows': 1,\n",
       "  'updatedColumns': 4,\n",
       "  'updatedCells': 4}}"
      ]
     },
     "execution_count": 11,
     "metadata": {},
     "output_type": "execute_result"
    }
   ],
   "source": [
    "body = [\"A\",\"B\",\"C\",\"D\"]\n",
    "sheet1.append_row(body,table_range=\"A1\")"
   ]
  },
  {
   "cell_type": "code",
   "execution_count": 12,
   "id": "7781b786",
   "metadata": {},
   "outputs": [
    {
     "data": {
      "text/plain": [
       "{'spreadsheetId': '1O91FqX_t0jlIpiByqjYuk8OpzHXWB9NnaZsvjgDKCEk',\n",
       " 'updates': {'spreadsheetId': '1O91FqX_t0jlIpiByqjYuk8OpzHXWB9NnaZsvjgDKCEk',\n",
       "  'updatedRange': \"'工作表1'!E1:E4\",\n",
       "  'updatedRows': 4,\n",
       "  'updatedColumns': 1,\n",
       "  'updatedCells': 4}}"
      ]
     },
     "execution_count": 12,
     "metadata": {},
     "output_type": "execute_result"
    }
   ],
   "source": [
    "body = [[\"A\",\"B\",\"C\",\"D\"]]\n",
    "sheet1.insert_cols(body,5)"
   ]
  },
  {
   "cell_type": "code",
   "execution_count": 13,
   "id": "9b8332b2",
   "metadata": {},
   "outputs": [
    {
     "data": {
      "text/plain": [
       "{'spreadsheetId': '1O91FqX_t0jlIpiByqjYuk8OpzHXWB9NnaZsvjgDKCEk',\n",
       " 'updates': {'spreadsheetId': '1O91FqX_t0jlIpiByqjYuk8OpzHXWB9NnaZsvjgDKCEk',\n",
       "  'updatedRange': \"'工作表1'!A1:D1\",\n",
       "  'updatedRows': 1,\n",
       "  'updatedColumns': 4,\n",
       "  'updatedCells': 4}}"
      ]
     },
     "execution_count": 13,
     "metadata": {},
     "output_type": "execute_result"
    }
   ],
   "source": [
    "body = [\"A\",\"B\",\"C\",\"D\"]\n",
    "sheet1.insert_row(body,1)"
   ]
  },
  {
   "cell_type": "code",
   "execution_count": 14,
   "id": "82dc3c2c",
   "metadata": {},
   "outputs": [
    {
     "data": {
      "text/plain": [
       "{'spreadsheetId': '1O91FqX_t0jlIpiByqjYuk8OpzHXWB9NnaZsvjgDKCEk',\n",
       " 'clearedRange': \"'工作表1'!A1:G11\"}"
      ]
     },
     "execution_count": 14,
     "metadata": {},
     "output_type": "execute_result"
    }
   ],
   "source": [
    "sheet1.clear()"
   ]
  },
  {
   "cell_type": "code",
   "execution_count": 15,
   "id": "6f422e43",
   "metadata": {},
   "outputs": [
    {
     "data": {
      "text/plain": [
       "{'spreadsheetId': '1O91FqX_t0jlIpiByqjYuk8OpzHXWB9NnaZsvjgDKCEk',\n",
       " 'replies': [{}]}"
      ]
     },
     "execution_count": 15,
     "metadata": {},
     "output_type": "execute_result"
    }
   ],
   "source": [
    "sheet1.resize(10,6)"
   ]
  },
  {
   "cell_type": "code",
   "execution_count": 16,
   "id": "14d9deda",
   "metadata": {},
   "outputs": [],
   "source": [
    "data = [[1,\"OAO\",50,62,40],[2,\"OuO\",54,20,63],[3,\"OnO\",54,12,6]]\n",
    "for i in data:\n",
    "    sheet1.append_row(i)"
   ]
  },
  {
   "cell_type": "code",
   "execution_count": 17,
   "id": "98504804",
   "metadata": {},
   "outputs": [
    {
     "data": {
      "text/plain": [
       "'OAO'"
      ]
     },
     "execution_count": 17,
     "metadata": {},
     "output_type": "execute_result"
    }
   ],
   "source": [
    "sheet1.acell(\"B1\").value"
   ]
  },
  {
   "cell_type": "code",
   "execution_count": 18,
   "id": "95d54e3f",
   "metadata": {},
   "outputs": [
    {
     "data": {
      "text/plain": [
       "['62', '20', '12']"
      ]
     },
     "execution_count": 18,
     "metadata": {},
     "output_type": "execute_result"
    }
   ],
   "source": [
    "sheet1.col_values(4)"
   ]
  },
  {
   "cell_type": "code",
   "execution_count": 19,
   "id": "1ffd93ca",
   "metadata": {},
   "outputs": [
    {
     "data": {
      "text/plain": [
       "[['1', 'OAO', '50', '62', '40'],\n",
       " ['2', 'OuO', '54', '20', '63'],\n",
       " ['3', 'OnO', '54', '12', '6']]"
      ]
     },
     "execution_count": 19,
     "metadata": {},
     "output_type": "execute_result"
    }
   ],
   "source": [
    "sheet1.get_all_values()"
   ]
  },
  {
   "cell_type": "code",
   "execution_count": 20,
   "id": "52ebc43e",
   "metadata": {},
   "outputs": [],
   "source": [
    "shareprice = pandas.read_excel(\"./data2201.xlsx\")"
   ]
  },
  {
   "cell_type": "code",
   "execution_count": 21,
   "id": "af6d5b1d",
   "metadata": {},
   "outputs": [],
   "source": [
    "sheet1.clear()\n",
    "body = list(shareprice.columns)\n",
    "sheet1.insert_row(body,1)\n",
    "\n",
    "body = list(shareprice.values)\n",
    "for i in body:\n",
    "    sheet1.append_row(list(i))"
   ]
  },
  {
   "cell_type": "code",
   "execution_count": null,
   "id": "189d516a",
   "metadata": {},
   "outputs": [],
   "source": []
  },
  {
   "cell_type": "code",
   "execution_count": null,
   "id": "7e6a9b78",
   "metadata": {},
   "outputs": [],
   "source": []
  }
 ],
 "metadata": {
  "kernelspec": {
   "display_name": "Python 3",
   "language": "python",
   "name": "python3"
  },
  "language_info": {
   "codemirror_mode": {
    "name": "ipython",
    "version": 3
   },
   "file_extension": ".py",
   "mimetype": "text/x-python",
   "name": "python",
   "nbconvert_exporter": "python",
   "pygments_lexer": "ipython3",
   "version": "3.8.8"
  }
 },
 "nbformat": 4,
 "nbformat_minor": 5
}
