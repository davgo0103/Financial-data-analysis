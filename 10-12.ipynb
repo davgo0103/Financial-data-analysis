{
 "cells": [
  {
   "cell_type": "code",
   "execution_count": 8,
   "id": "caafdc44",
   "metadata": {},
   "outputs": [],
   "source": [
    "import pandas\n",
    "shareprice = pandas.read_excel(\"./data.xlsx\")\n",
    "shareprice = shareprice.set_index('日期')\n",
    "shareprice.index = pandas.to_datetime(shareprice.index)"
   ]
  },
  {
   "cell_type": "code",
   "execution_count": 17,
   "id": "013ee41c",
   "metadata": {},
   "outputs": [
    {
     "data": {
      "text/plain": [
       "日期\n",
       "2022-01-03    0.019017\n",
       "2022-01-04    0.016768\n",
       "2022-01-05   -0.029231\n",
       "2022-01-06    0.009317\n",
       "2022-01-07   -0.014196\n",
       "                ...   \n",
       "2022-09-28   -0.020548\n",
       "2022-09-29   -0.018391\n",
       "2022-09-30   -0.005924\n",
       "2022-10-03   -0.003597\n",
       "2022-10-04   -0.001166\n",
       "Length: 184, dtype: float64"
      ]
     },
     "execution_count": 17,
     "metadata": {},
     "output_type": "execute_result"
    }
   ],
   "source": [
    "((shareprice['收盤價'] - shareprice['開盤價']) / shareprice['收盤價']) "
   ]
  },
  {
   "cell_type": "code",
   "execution_count": 29,
   "id": "2f640a4f",
   "metadata": {},
   "outputs": [
    {
     "data": {
      "text/plain": [
       "日期\n",
       "2022-01-03         NaN\n",
       "2022-01-04    0.038110\n",
       "2022-01-05   -0.009231\n",
       "2022-01-06   -0.009317\n",
       "2022-01-07   -0.015773\n",
       "                ...   \n",
       "2022-09-28   -0.022831\n",
       "2022-09-29   -0.006897\n",
       "2022-09-30   -0.030806\n",
       "2022-10-03   -0.011990\n",
       "2022-10-04    0.027972\n",
       "Name: 收盤價, Length: 184, dtype: float64"
      ]
     },
     "execution_count": 29,
     "metadata": {},
     "output_type": "execute_result"
    }
   ],
   "source": [
    "(shareprice['收盤價'] - shareprice['收盤價'].shift(1)) / shareprice['收盤價']"
   ]
  },
  {
   "cell_type": "code",
   "execution_count": null,
   "id": "c159ea27",
   "metadata": {},
   "outputs": [],
   "source": []
  }
 ],
 "metadata": {
  "kernelspec": {
   "display_name": "Python 3",
   "language": "python",
   "name": "python3"
  },
  "language_info": {
   "codemirror_mode": {
    "name": "ipython",
    "version": 3
   },
   "file_extension": ".py",
   "mimetype": "text/x-python",
   "name": "python",
   "nbconvert_exporter": "python",
   "pygments_lexer": "ipython3",
   "version": "3.8.8"
  }
 },
 "nbformat": 4,
 "nbformat_minor": 5
}
