{
 "cells": [
  {
   "cell_type": "code",
   "execution_count": 1,
   "id": "09aaca2d",
   "metadata": {},
   "outputs": [],
   "source": [
    "import pandas"
   ]
  },
  {
   "cell_type": "code",
   "execution_count": 3,
   "id": "07540a0d",
   "metadata": {},
   "outputs": [],
   "source": [
    "shareprice = pandas.read_excel(\"./data.xlsx\")\n",
    "shareprice = shareprice.set_index('日期')"
   ]
  },
  {
   "cell_type": "code",
   "execution_count": 4,
   "id": "21b7e536",
   "metadata": {},
   "outputs": [],
   "source": [
    "shareprice.index = pandas.to_datetime(shareprice.index)"
   ]
  },
  {
   "cell_type": "code",
   "execution_count": 5,
   "id": "cc697275",
   "metadata": {},
   "outputs": [
    {
     "data": {
      "text/plain": [
       "日期\n",
       "2022-01-03    632.0\n",
       "2022-01-04    656.0\n",
       "2022-01-05    669.0\n",
       "2022-01-06    646.0\n",
       "2022-01-07    646.0\n",
       "2022-01-10    645.0\n",
       "Name: 最高價, dtype: float64"
      ]
     },
     "execution_count": 5,
     "metadata": {},
     "output_type": "execute_result"
    }
   ],
   "source": [
    "shareprice.loc['2022/01/03':'2022/01/10','最高價']"
   ]
  },
  {
   "cell_type": "code",
   "execution_count": null,
   "id": "2638dc37",
   "metadata": {},
   "outputs": [],
   "source": []
  }
 ],
 "metadata": {
  "kernelspec": {
   "display_name": "Python 3",
   "language": "python",
   "name": "python3"
  },
  "language_info": {
   "codemirror_mode": {
    "name": "ipython",
    "version": 3
   },
   "file_extension": ".py",
   "mimetype": "text/x-python",
   "name": "python",
   "nbconvert_exporter": "python",
   "pygments_lexer": "ipython3",
   "version": "3.8.8"
  }
 },
 "nbformat": 4,
 "nbformat_minor": 5
}
