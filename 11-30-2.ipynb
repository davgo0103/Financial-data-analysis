{
 "cells": [
  {
   "cell_type": "code",
   "execution_count": 1,
   "id": "85531454",
   "metadata": {},
   "outputs": [],
   "source": [
    "import requests\n",
    "from bs4 import BeautifulSoup\n",
    "import pandas"
   ]
  },
  {
   "cell_type": "code",
   "execution_count": 2,
   "id": "0928789a",
   "metadata": {},
   "outputs": [],
   "source": [
    "url = \"https://www.twse.com.tw/exchangeReport/MI_INDEX?response=html&date=20221122&type=0099P\"\n",
    "thead_list = []"
   ]
  },
  {
   "cell_type": "code",
   "execution_count": 3,
   "id": "cdd7da98",
   "metadata": {},
   "outputs": [],
   "source": [
    "response = requests.get(url)\n",
    "html = response.text\n",
    "HTML = BeautifulSoup(html)\n",
    "price_HTML = HTML.find(\"table\")\n",
    "thead_HTML = price_HTML.find(\"thead\")\n",
    "tbody_HTML = price_HTML.find(\"tbody\")\n",
    "tr = thead_HTML.find_all(\"tr\")[2]\n",
    "for td in tr.find_all(\"td\"):\n",
    "    thead_list.append(td.text)\n",
    "tbody_all_row = tbody_HTML.find_all(\"tr\")\n",
    "tbody_list = []\n",
    "for i in tbody_all_row:\n",
    "    row_list = []\n",
    "    for td in i.find_all(\"td\"):\n",
    "        row_list.append(td.text)\n",
    "    tbody_list.append(row_list)\n",
    "shareprice_df = pandas.DataFrame(data = tbody_list,columns=thead_list)"
   ]
  },
  {
   "cell_type": "code",
   "execution_count": null,
   "id": "9fe1ffd8",
   "metadata": {},
   "outputs": [],
   "source": []
  }
 ],
 "metadata": {
  "kernelspec": {
   "display_name": "Python 3",
   "language": "python",
   "name": "python3"
  },
  "language_info": {
   "codemirror_mode": {
    "name": "ipython",
    "version": 3
   },
   "file_extension": ".py",
   "mimetype": "text/x-python",
   "name": "python",
   "nbconvert_exporter": "python",
   "pygments_lexer": "ipython3",
   "version": "3.8.8"
  }
 },
 "nbformat": 4,
 "nbformat_minor": 5
}
