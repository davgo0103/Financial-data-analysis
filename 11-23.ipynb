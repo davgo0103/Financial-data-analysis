{
 "cells": [
  {
   "cell_type": "code",
   "execution_count": 1,
   "id": "3cbbf62c",
   "metadata": {},
   "outputs": [],
   "source": [
    "import sqlite3"
   ]
  },
  {
   "cell_type": "code",
   "execution_count": 2,
   "id": "20d90ce2",
   "metadata": {},
   "outputs": [],
   "source": [
    "database = \"test.db\""
   ]
  },
  {
   "cell_type": "code",
   "execution_count": 3,
   "id": "c30ad1cc",
   "metadata": {},
   "outputs": [],
   "source": [
    "link = sqlite3.connect(database)"
   ]
  },
  {
   "cell_type": "code",
   "execution_count": 4,
   "id": "456f5ee6",
   "metadata": {},
   "outputs": [],
   "source": [
    "ctr = link.cursor()"
   ]
  },
  {
   "cell_type": "code",
   "execution_count": 5,
   "id": "f0fdb5a5",
   "metadata": {},
   "outputs": [],
   "source": [
    "sql = \"\"\"\n",
    "CREATE Table If Not Exists 期中成績 \\\n",
    "(\"座號\" Integer Primary Key Not Null, \\\n",
    "\"姓名\" Text Not Null,\\\n",
    "\"大數據\" Integer Not Null,\\\n",
    "\"資料庫\" Integer Not Null,\\\n",
    "\"財務管理\" Integer Not Null)\n",
    "\"\"\""
   ]
  },
  {
   "cell_type": "code",
   "execution_count": 6,
   "id": "d573117c",
   "metadata": {},
   "outputs": [
    {
     "data": {
      "text/plain": [
       "<sqlite3.Cursor at 0x18b5f394c70>"
      ]
     },
     "execution_count": 6,
     "metadata": {},
     "output_type": "execute_result"
    }
   ],
   "source": [
    "ctr.execute(sql)"
   ]
  },
  {
   "cell_type": "code",
   "execution_count": 7,
   "id": "1028af01",
   "metadata": {},
   "outputs": [
    {
     "ename": "IntegrityError",
     "evalue": "UNIQUE constraint failed: 期中成績.座號",
     "output_type": "error",
     "traceback": [
      "\u001b[1;31m---------------------------------------------------------------------------\u001b[0m",
      "\u001b[1;31mIntegrityError\u001b[0m                            Traceback (most recent call last)",
      "\u001b[1;32m<ipython-input-7-4acf8ed8f1a9>\u001b[0m in \u001b[0;36m<module>\u001b[1;34m\u001b[0m\n\u001b[0;32m      1\u001b[0m \u001b[0msql\u001b[0m \u001b[1;33m=\u001b[0m \u001b[1;34m\"INSERT INTO 期中成績 VALUES(1,'ABC',80,90,100)\"\u001b[0m\u001b[1;33m\u001b[0m\u001b[1;33m\u001b[0m\u001b[0m\n\u001b[1;32m----> 2\u001b[1;33m \u001b[0mctr\u001b[0m\u001b[1;33m.\u001b[0m\u001b[0mexecute\u001b[0m\u001b[1;33m(\u001b[0m\u001b[0msql\u001b[0m\u001b[1;33m)\u001b[0m\u001b[1;33m\u001b[0m\u001b[1;33m\u001b[0m\u001b[0m\n\u001b[0m",
      "\u001b[1;31mIntegrityError\u001b[0m: UNIQUE constraint failed: 期中成績.座號"
     ]
    }
   ],
   "source": [
    "sql = \"INSERT INTO 期中成績 VALUES(1,'ABC',80,90,100)\"\n",
    "ctr.execute(sql)"
   ]
  },
  {
   "cell_type": "code",
   "execution_count": null,
   "id": "9af81feb",
   "metadata": {},
   "outputs": [],
   "source": [
    "sql = \"INSERT INTO 期中成績 VALUES(2,'CWW',84,9,140)\"\n",
    "ctr.execute(sql)"
   ]
  },
  {
   "cell_type": "code",
   "execution_count": null,
   "id": "b84e6cd5",
   "metadata": {},
   "outputs": [],
   "source": [
    "sql = \"INSERT INTO 期中成績 VALUES(3,'DDC',50,91,50)\"\n",
    "ctr.execute(sql)"
   ]
  },
  {
   "cell_type": "code",
   "execution_count": null,
   "id": "6bb892df",
   "metadata": {},
   "outputs": [],
   "source": [
    "sql = \"Update 期中成績 set '大數據' = 60 where 座號 = '3'\"\n",
    "ctr.execute(sql)"
   ]
  },
  {
   "cell_type": "code",
   "execution_count": null,
   "id": "297d05a8",
   "metadata": {},
   "outputs": [],
   "source": [
    "sql = \"Update 期中成績 set ('大數據','資料庫','財務管理') = ('60','60','60') where 座號 = '2'\"\n",
    "ctr.execute(sql)"
   ]
  },
  {
   "cell_type": "code",
   "execution_count": null,
   "id": "1f65cfa0",
   "metadata": {},
   "outputs": [],
   "source": [
    "link.commit()"
   ]
  },
  {
   "cell_type": "code",
   "execution_count": null,
   "id": "c3e55fdf",
   "metadata": {},
   "outputs": [],
   "source": []
  },
  {
   "cell_type": "code",
   "execution_count": 8,
   "id": "1104cd4a",
   "metadata": {},
   "outputs": [
    {
     "data": {
      "text/plain": [
       "<sqlite3.Cursor at 0x18b5f394c70>"
      ]
     },
     "execution_count": 8,
     "metadata": {},
     "output_type": "execute_result"
    }
   ],
   "source": [
    " sql = \"SELECT * FROM 期中成績 where '財務管理' > 60 ORDER BY '資料庫' \"\n",
    "ctr.execute(sql)"
   ]
  },
  {
   "cell_type": "code",
   "execution_count": 9,
   "id": "cdac8aa5",
   "metadata": {},
   "outputs": [
    {
     "data": {
      "text/plain": [
       "[(1, 'ABC', 80, 90, 100), (2, 'CWW', 60, 60, 60), (3, 'DDC', 60, 91, 50)]"
      ]
     },
     "execution_count": 9,
     "metadata": {},
     "output_type": "execute_result"
    }
   ],
   "source": [
    "table = ctr.fetchall()\n",
    "table"
   ]
  },
  {
   "cell_type": "code",
   "execution_count": null,
   "id": "8cad9a29",
   "metadata": {},
   "outputs": [],
   "source": []
  }
 ],
 "metadata": {
  "kernelspec": {
   "display_name": "Python 3",
   "language": "python",
   "name": "python3"
  },
  "language_info": {
   "codemirror_mode": {
    "name": "ipython",
    "version": 3
   },
   "file_extension": ".py",
   "mimetype": "text/x-python",
   "name": "python",
   "nbconvert_exporter": "python",
   "pygments_lexer": "ipython3",
   "version": "3.8.8"
  },
  "vscode": {
   "interpreter": {
    "hash": "0a54084e6b208ee8d1ce3989ffc20924477a5f55f5a43e22e699a6741623861e"
   }
  }
 },
 "nbformat": 4,
 "nbformat_minor": 5
}
