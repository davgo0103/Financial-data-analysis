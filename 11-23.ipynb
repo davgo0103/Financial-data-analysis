{
 "cells": [
  {
   "cell_type": "code",
   "execution_count": 1,
   "id": "3cbbf62c",
   "metadata": {},
   "outputs": [],
   "source": [
    "import sqlite3"
   ]
  },
  {
   "cell_type": "code",
   "execution_count": 2,
   "id": "20d90ce2",
   "metadata": {},
   "outputs": [],
   "source": [
    "database = \"test.db\""
   ]
  },
  {
   "cell_type": "code",
   "execution_count": 3,
   "id": "c30ad1cc",
   "metadata": {},
   "outputs": [],
   "source": [
    "link = sqlite3.connect(database)"
   ]
  },
  {
   "cell_type": "code",
   "execution_count": 4,
   "id": "456f5ee6",
   "metadata": {},
   "outputs": [],
   "source": [
    "ctr = link.cursor()"
   ]
  },
  {
   "cell_type": "code",
   "execution_count": 5,
   "id": "f0fdb5a5",
   "metadata": {},
   "outputs": [],
   "source": [
    "sql = \"\"\"\n",
    "CREATE Table If Not Exists 期中成績 \\\n",
    "(\"座號\" Integer Not Null, \\\n",
    "\"姓名\" Text Not Null,\\\n",
    "\"大數據\" Integer Not Null,\\\n",
    "\"資料庫\" Integer Not Null,\\\n",
    "\"財務管理\" Integer Not Null)\n",
    "\"\"\""
   ]
  },
  {
   "cell_type": "code",
   "execution_count": 6,
   "id": "1028af01",
   "metadata": {},
   "outputs": [
    {
     "data": {
      "text/plain": [
       "<sqlite3.Cursor at 0x29f05014c70>"
      ]
     },
     "execution_count": 6,
     "metadata": {},
     "output_type": "execute_result"
    }
   ],
   "source": [
    "sql = \"INSERT INTO 期中成績 VALUES(1,'ABC',80,90,100)\"\n",
    "ctr.execute(sql)"
   ]
  },
  {
   "cell_type": "code",
   "execution_count": 7,
   "id": "9af81feb",
   "metadata": {},
   "outputs": [
    {
     "data": {
      "text/plain": [
       "<sqlite3.Cursor at 0x29f05014c70>"
      ]
     },
     "execution_count": 7,
     "metadata": {},
     "output_type": "execute_result"
    }
   ],
   "source": [
    "sql = \"INSERT INTO 期中成績 VALUES(2,'CWW',84,9,140)\"\n",
    "ctr.execute(sql)"
   ]
  },
  {
   "cell_type": "code",
   "execution_count": 8,
   "id": "001cc924",
   "metadata": {},
   "outputs": [
    {
     "data": {
      "text/plain": [
       "<sqlite3.Cursor at 0x29f05014c70>"
      ]
     },
     "execution_count": 8,
     "metadata": {},
     "output_type": "execute_result"
    }
   ],
   "source": [
    "sql = \"INSERT INTO 期中成績 VALUES(3,'DDC',50,91,50)\"\n",
    "ctr.execute(sql)"
   ]
  },
  {
   "cell_type": "code",
   "execution_count": null,
   "id": "b4aeb76d",
   "metadata": {},
   "outputs": [],
   "source": [
    "sql = \"Update 期中成績 VALUES(3,'DDC',50,91,50)\"\n",
    "ctr.execute(sql)"
   ]
  },
  {
   "cell_type": "code",
   "execution_count": 9,
   "id": "1f65cfa0",
   "metadata": {},
   "outputs": [],
   "source": [
    "link.commit()"
   ]
  }
 ],
 "metadata": {
  "kernelspec": {
   "display_name": "Python 3",
   "language": "python",
   "name": "python3"
  },
  "language_info": {
   "codemirror_mode": {
    "name": "ipython",
    "version": 3
   },
   "file_extension": ".py",
   "mimetype": "text/x-python",
   "name": "python",
   "nbconvert_exporter": "python",
   "pygments_lexer": "ipython3",
   "version": "3.8.8"
  },
  "vscode": {
   "interpreter": {
    "hash": "0a54084e6b208ee8d1ce3989ffc20924477a5f55f5a43e22e699a6741623861e"
   }
  }
 },
 "nbformat": 4,
 "nbformat_minor": 5
}
